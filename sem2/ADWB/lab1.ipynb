{
  "cells": [
    {
      "cell_type": "markdown",
      "id": "e9e2ef0e",
      "metadata": {

      },
      "source": [
        "# Preprocessing w Python\n",
        "\n",
        "## Część 1:\n",
        "\n",
        "1. Obsługa brakujących wartości.\n",
        "2. Usuwanie duplikatów.\n",
        "3. Identyfikacja i obsługa wartości odstających (outlierów).\n",
        "4. Skalowanie danych: normalizacja i standaryzacja."
      ]
    },
    {
      "cell_type": "code",
      "execution_count": 1,
      "id": "a35d831a",
      "metadata": {

      },
      "outputs": [],
      "source": [
        "# Import potrzebnych bibliotek\n",
        "\n",
        "import numpy as np\n",
        "import pandas as pd\n",
        "from sklearn.impute import KNNImputer\n",
        "from sklearn.preprocessing import MinMaxScaler, StandardScaler"
      ]
    },
    {
      "cell_type": "code",
      "execution_count": 2,
      "id": "09ea3f35",
      "metadata": {

      },
      "outputs": [
        {
          "data": {
            "text/html": [
              "\u003Cdiv\u003E\n",
              "\u003Cstyle scoped\u003E\n",
              "    .dataframe tbody tr th:only-of-type {\n",
              "        vertical-align: middle;\n",
              "    }\n",
              "\n",
              "    .dataframe tbody tr th {\n",
              "        vertical-align: top;\n",
              "    }\n",
              "\n",
              "    .dataframe thead th {\n",
              "        text-align: right;\n",
              "    }\n",
              "\u003C/style\u003E\n",
              "\u003Ctable border=\"1\" class=\"dataframe\"\u003E\n",
              "  \u003Cthead\u003E\n",
              "    \u003Ctr style=\"text-align: right;\"\u003E\n",
              "      \u003Cth\u003E\u003C/th\u003E\n",
              "      \u003Cth\u003ECena\u003C/th\u003E\n",
              "      \u003Cth\u003ELiczba sprzedanych\u003C/th\u003E\n",
              "      \u003Cth\u003EOcena klienta\u003C/th\u003E\n",
              "    \u003C/tr\u003E\n",
              "    \u003Ctr\u003E\n",
              "      \u003Cth\u003EProdukt\u003C/th\u003E\n",
              "      \u003Cth\u003E\u003C/th\u003E\n",
              "      \u003Cth\u003E\u003C/th\u003E\n",
              "      \u003Cth\u003E\u003C/th\u003E\n",
              "    \u003C/tr\u003E\n",
              "  \u003C/thead\u003E\n",
              "  \u003Ctbody\u003E\n",
              "    \u003Ctr\u003E\n",
              "      \u003Cth\u003EA\u003C/th\u003E\n",
              "      \u003Ctd\u003E10.38\u003C/td\u003E\n",
              "      \u003Ctd\u003E50\u003C/td\u003E\n",
              "      \u003Ctd\u003E4\u003C/td\u003E\n",
              "    \u003C/tr\u003E\n",
              "    \u003Ctr\u003E\n",
              "      \u003Cth\u003EB\u003C/th\u003E\n",
              "      \u003Ctd\u003E15.50\u003C/td\u003E\n",
              "      \u003Ctd\u003E30\u003C/td\u003E\n",
              "      \u003Ctd\u003E5\u003C/td\u003E\n",
              "    \u003C/tr\u003E\n",
              "    \u003Ctr\u003E\n",
              "      \u003Cth\u003EC\u003C/th\u003E\n",
              "      \u003Ctd\u003E8.29\u003C/td\u003E\n",
              "      \u003Ctd\u003E70\u003C/td\u003E\n",
              "      \u003Ctd\u003E3\u003C/td\u003E\n",
              "    \u003C/tr\u003E\n",
              "    \u003Ctr\u003E\n",
              "      \u003Cth\u003ED\u003C/th\u003E\n",
              "      \u003Ctd\u003E20.99\u003C/td\u003E\n",
              "      \u003Ctd\u003E30\u003C/td\u003E\n",
              "      \u003Ctd\u003E4\u003C/td\u003E\n",
              "    \u003C/tr\u003E\n",
              "    \u003Ctr\u003E\n",
              "      \u003Cth\u003EE\u003C/th\u003E\n",
              "      \u003Ctd\u003E12.00\u003C/td\u003E\n",
              "      \u003Ctd\u003E200\u003C/td\u003E\n",
              "      \u003Ctd\u003E4\u003C/td\u003E\n",
              "    \u003C/tr\u003E\n",
              "    \u003Ctr\u003E\n",
              "      \u003Cth\u003EF\u003C/th\u003E\n",
              "      \u003Ctd\u003E14.49\u003C/td\u003E\n",
              "      \u003Ctd\u003EMISSING\u003C/td\u003E\n",
              "      \u003Ctd\u003E2\u003C/td\u003E\n",
              "    \u003C/tr\u003E\n",
              "    \u003Ctr\u003E\n",
              "      \u003Cth\u003EG\u003C/th\u003E\n",
              "      \u003Ctd\u003E11.99\u003C/td\u003E\n",
              "      \u003Ctd\u003E60\u003C/td\u003E\n",
              "      \u003Ctd\u003E5\u003C/td\u003E\n",
              "    \u003C/tr\u003E\n",
              "    \u003Ctr\u003E\n",
              "      \u003Cth\u003EH\u003C/th\u003E\n",
              "      \u003Ctd\u003E85.89\u003C/td\u003E\n",
              "      \u003Ctd\u003E5\u003C/td\u003E\n",
              "      \u003Ctd\u003E1\u003C/td\u003E\n",
              "    \u003C/tr\u003E\n",
              "    \u003Ctr\u003E\n",
              "      \u003Cth\u003EI\u003C/th\u003E\n",
              "      \u003Ctd\u003E10.38\u003C/td\u003E\n",
              "      \u003Ctd\u003E50\u003C/td\u003E\n",
              "      \u003Ctd\u003E4\u003C/td\u003E\n",
              "    \u003C/tr\u003E\n",
              "  \u003C/tbody\u003E\n",
              "\u003C/table\u003E\n",
              "\u003C/div\u003E"
            ],
            "text/plain": [
              "          Cena Liczba sprzedanych  Ocena klienta\n",
              "Produkt                                         \n",
              "A        10.38                 50              4\n",
              "B        15.50                 30              5\n",
              "C         8.29                 70              3\n",
              "D        20.99                 30              4\n",
              "E        12.00                200              4\n",
              "F        14.49            MISSING              2\n",
              "G        11.99                 60              5\n",
              "H        85.89                  5              1\n",
              "I        10.38                 50              4"
            ]
          },
          "execution_count": 2,
          "metadata": {

          },
          "output_type": "execute_result"
        }
      ],
      "source": [
        "# Wczytanie danych\n",
        "\n",
        "# data = [['A', 10.38, 50, 4],\n",
        "#         ['B', 15.50, 30, 5],\n",
        "#         ['C', 8.29, 70, 3],\n",
        "#         ['D', 20.99, 30, 4],\n",
        "#         ['E', 12.00, 200, 4],\n",
        "#         ['F', 14.49, 'MISSING', 2],\n",
        "#         ['G', 11.99, 60, 5],\n",
        "#         ['H', 85.89, 5, 1],\n",
        "#         ['I', 10.38, 50, 4]]\n",
        "\n",
        "# df = pd.DataFrame(data, columns=['Produkt', 'Cena', 'Liczba sprzedanych', 'Ocena klienta'])\n",
        "# df = df.set_index(df.columns[0])\n",
        "# df.to_csv('C:\\\\Users\\\\katar\\\\Desktop\\\\produkty.csv')\n",
        "\n",
        "df = pd.read_csv('C:\\\\Users\\\\katar\\\\Desktop\\\\produkty.csv', index_col=0)\n",
        "\n",
        "df"
      ]
    },
    {
      "cell_type": "code",
      "execution_count": 3,
      "id": "251a96f4",
      "metadata": {

      },
      "outputs": [
        {
          "name": "stdout",
          "output_type": "stream",
          "text": [
            "\u003Cclass 'pandas.core.frame.DataFrame'\u003E\n",
            "Index: 9 entries, A to I\n",
            "Data columns (total 3 columns):\n",
            " #   Column              Non-Null Count  Dtype  \n",
            "---  ------              --------------  -----  \n",
            " 0   Cena                9 non-null      float64\n",
            " 1   Liczba sprzedanych  9 non-null      object \n",
            " 2   Ocena klienta       9 non-null      int64  \n",
            "dtypes: float64(1), int64(1), object(1)\n",
            "memory usage: 288.0+ bytes\n"
          ]
        }
      ],
      "source": [
        "df.info()"
      ]
    },
    {
      "cell_type": "code",
      "execution_count": 4,
      "id": "72a90a33",
      "metadata": {

      },
      "outputs": [
        {
          "data": {
            "text/html": [
              "\u003Cdiv\u003E\n",
              "\u003Cstyle scoped\u003E\n",
              "    .dataframe tbody tr th:only-of-type {\n",
              "        vertical-align: middle;\n",
              "    }\n",
              "\n",
              "    .dataframe tbody tr th {\n",
              "        vertical-align: top;\n",
              "    }\n",
              "\n",
              "    .dataframe thead th {\n",
              "        text-align: right;\n",
              "    }\n",
              "\u003C/style\u003E\n",
              "\u003Ctable border=\"1\" class=\"dataframe\"\u003E\n",
              "  \u003Cthead\u003E\n",
              "    \u003Ctr style=\"text-align: right;\"\u003E\n",
              "      \u003Cth\u003E\u003C/th\u003E\n",
              "      \u003Cth\u003ECena\u003C/th\u003E\n",
              "      \u003Cth\u003ELiczba sprzedanych\u003C/th\u003E\n",
              "      \u003Cth\u003EOcena klienta\u003C/th\u003E\n",
              "    \u003C/tr\u003E\n",
              "    \u003Ctr\u003E\n",
              "      \u003Cth\u003EProdukt\u003C/th\u003E\n",
              "      \u003Cth\u003E\u003C/th\u003E\n",
              "      \u003Cth\u003E\u003C/th\u003E\n",
              "      \u003Cth\u003E\u003C/th\u003E\n",
              "    \u003C/tr\u003E\n",
              "  \u003C/thead\u003E\n",
              "  \u003Ctbody\u003E\n",
              "    \u003Ctr\u003E\n",
              "      \u003Cth\u003EA\u003C/th\u003E\n",
              "      \u003Ctd\u003E10.38\u003C/td\u003E\n",
              "      \u003Ctd\u003E50\u003C/td\u003E\n",
              "      \u003Ctd\u003E4\u003C/td\u003E\n",
              "    \u003C/tr\u003E\n",
              "    \u003Ctr\u003E\n",
              "      \u003Cth\u003EB\u003C/th\u003E\n",
              "      \u003Ctd\u003E15.50\u003C/td\u003E\n",
              "      \u003Ctd\u003E30\u003C/td\u003E\n",
              "      \u003Ctd\u003E5\u003C/td\u003E\n",
              "    \u003C/tr\u003E\n",
              "    \u003Ctr\u003E\n",
              "      \u003Cth\u003EC\u003C/th\u003E\n",
              "      \u003Ctd\u003E8.29\u003C/td\u003E\n",
              "      \u003Ctd\u003E70\u003C/td\u003E\n",
              "      \u003Ctd\u003E3\u003C/td\u003E\n",
              "    \u003C/tr\u003E\n",
              "    \u003Ctr\u003E\n",
              "      \u003Cth\u003ED\u003C/th\u003E\n",
              "      \u003Ctd\u003E20.99\u003C/td\u003E\n",
              "      \u003Ctd\u003E30\u003C/td\u003E\n",
              "      \u003Ctd\u003E4\u003C/td\u003E\n",
              "    \u003C/tr\u003E\n",
              "    \u003Ctr\u003E\n",
              "      \u003Cth\u003EE\u003C/th\u003E\n",
              "      \u003Ctd\u003E12.00\u003C/td\u003E\n",
              "      \u003Ctd\u003E200\u003C/td\u003E\n",
              "      \u003Ctd\u003E4\u003C/td\u003E\n",
              "    \u003C/tr\u003E\n",
              "    \u003Ctr\u003E\n",
              "      \u003Cth\u003EF\u003C/th\u003E\n",
              "      \u003Ctd\u003E14.49\u003C/td\u003E\n",
              "      \u003Ctd\u003ENaN\u003C/td\u003E\n",
              "      \u003Ctd\u003E2\u003C/td\u003E\n",
              "    \u003C/tr\u003E\n",
              "    \u003Ctr\u003E\n",
              "      \u003Cth\u003EG\u003C/th\u003E\n",
              "      \u003Ctd\u003E11.99\u003C/td\u003E\n",
              "      \u003Ctd\u003E60\u003C/td\u003E\n",
              "      \u003Ctd\u003E5\u003C/td\u003E\n",
              "    \u003C/tr\u003E\n",
              "    \u003Ctr\u003E\n",
              "      \u003Cth\u003EH\u003C/th\u003E\n",
              "      \u003Ctd\u003E85.89\u003C/td\u003E\n",
              "      \u003Ctd\u003E5\u003C/td\u003E\n",
              "      \u003Ctd\u003E1\u003C/td\u003E\n",
              "    \u003C/tr\u003E\n",
              "    \u003Ctr\u003E\n",
              "      \u003Cth\u003EI\u003C/th\u003E\n",
              "      \u003Ctd\u003E10.38\u003C/td\u003E\n",
              "      \u003Ctd\u003E50\u003C/td\u003E\n",
              "      \u003Ctd\u003E4\u003C/td\u003E\n",
              "    \u003C/tr\u003E\n",
              "  \u003C/tbody\u003E\n",
              "\u003C/table\u003E\n",
              "\u003C/div\u003E"
            ],
            "text/plain": [
              "          Cena Liczba sprzedanych  Ocena klienta\n",
              "Produkt                                         \n",
              "A        10.38                 50              4\n",
              "B        15.50                 30              5\n",
              "C         8.29                 70              3\n",
              "D        20.99                 30              4\n",
              "E        12.00                200              4\n",
              "F        14.49                NaN              2\n",
              "G        11.99                 60              5\n",
              "H        85.89                  5              1\n",
              "I        10.38                 50              4"
            ]
          },
          "execution_count": 4,
          "metadata": {

          },
          "output_type": "execute_result"
        }
      ],
      "source": [
        "df = df.replace('MISSING', np.NaN)\n",
        "\n",
        "df"
      ]
    },
    {
      "cell_type": "code",
      "execution_count": 5,
      "id": "afc2e0e9",
      "metadata": {

      },
      "outputs": [
        {
          "name": "stdout",
          "output_type": "stream",
          "text": [
            "\u003Cclass 'pandas.core.frame.DataFrame'\u003E\n",
            "Index: 9 entries, A to I\n",
            "Data columns (total 3 columns):\n",
            " #   Column              Non-Null Count  Dtype  \n",
            "---  ------              --------------  -----  \n",
            " 0   Cena                9 non-null      float64\n",
            " 1   Liczba sprzedanych  8 non-null      float64\n",
            " 2   Ocena klienta       9 non-null      int64  \n",
            "dtypes: float64(2), int64(1)\n",
            "memory usage: 288.0+ bytes\n"
          ]
        }
      ],
      "source": [
        "df['Liczba sprzedanych'] = df['Liczba sprzedanych'].apply(pd.to_numeric, errors='coerce')\n",
        "\n",
        "df.info()"
      ]
    },
    {
      "cell_type": "markdown",
      "id": "e97980b1",
      "metadata": {

      },
      "source": [
        "## 1. Obsługa brakujących wartości"
      ]
    },
    {
      "cell_type": "code",
      "execution_count": 6,
      "id": "3786aa40",
      "metadata": {

      },
      "outputs": [
        {
          "data": {
            "text/html": [
              "\u003Cdiv\u003E\n",
              "\u003Cstyle scoped\u003E\n",
              "    .dataframe tbody tr th:only-of-type {\n",
              "        vertical-align: middle;\n",
              "    }\n",
              "\n",
              "    .dataframe tbody tr th {\n",
              "        vertical-align: top;\n",
              "    }\n",
              "\n",
              "    .dataframe thead th {\n",
              "        text-align: right;\n",
              "    }\n",
              "\u003C/style\u003E\n",
              "\u003Ctable border=\"1\" class=\"dataframe\"\u003E\n",
              "  \u003Cthead\u003E\n",
              "    \u003Ctr style=\"text-align: right;\"\u003E\n",
              "      \u003Cth\u003E\u003C/th\u003E\n",
              "      \u003Cth\u003ECena\u003C/th\u003E\n",
              "      \u003Cth\u003ELiczba sprzedanych\u003C/th\u003E\n",
              "      \u003Cth\u003EOcena klienta\u003C/th\u003E\n",
              "    \u003C/tr\u003E\n",
              "    \u003Ctr\u003E\n",
              "      \u003Cth\u003EProdukt\u003C/th\u003E\n",
              "      \u003Cth\u003E\u003C/th\u003E\n",
              "      \u003Cth\u003E\u003C/th\u003E\n",
              "      \u003Cth\u003E\u003C/th\u003E\n",
              "    \u003C/tr\u003E\n",
              "  \u003C/thead\u003E\n",
              "  \u003Ctbody\u003E\n",
              "    \u003Ctr\u003E\n",
              "      \u003Cth\u003EA\u003C/th\u003E\n",
              "      \u003Ctd\u003EFalse\u003C/td\u003E\n",
              "      \u003Ctd\u003EFalse\u003C/td\u003E\n",
              "      \u003Ctd\u003EFalse\u003C/td\u003E\n",
              "    \u003C/tr\u003E\n",
              "    \u003Ctr\u003E\n",
              "      \u003Cth\u003EB\u003C/th\u003E\n",
              "      \u003Ctd\u003EFalse\u003C/td\u003E\n",
              "      \u003Ctd\u003EFalse\u003C/td\u003E\n",
              "      \u003Ctd\u003EFalse\u003C/td\u003E\n",
              "    \u003C/tr\u003E\n",
              "    \u003Ctr\u003E\n",
              "      \u003Cth\u003EC\u003C/th\u003E\n",
              "      \u003Ctd\u003EFalse\u003C/td\u003E\n",
              "      \u003Ctd\u003EFalse\u003C/td\u003E\n",
              "      \u003Ctd\u003EFalse\u003C/td\u003E\n",
              "    \u003C/tr\u003E\n",
              "    \u003Ctr\u003E\n",
              "      \u003Cth\u003ED\u003C/th\u003E\n",
              "      \u003Ctd\u003EFalse\u003C/td\u003E\n",
              "      \u003Ctd\u003EFalse\u003C/td\u003E\n",
              "      \u003Ctd\u003EFalse\u003C/td\u003E\n",
              "    \u003C/tr\u003E\n",
              "    \u003Ctr\u003E\n",
              "      \u003Cth\u003EE\u003C/th\u003E\n",
              "      \u003Ctd\u003EFalse\u003C/td\u003E\n",
              "      \u003Ctd\u003EFalse\u003C/td\u003E\n",
              "      \u003Ctd\u003EFalse\u003C/td\u003E\n",
              "    \u003C/tr\u003E\n",
              "    \u003Ctr\u003E\n",
              "      \u003Cth\u003EF\u003C/th\u003E\n",
              "      \u003Ctd\u003EFalse\u003C/td\u003E\n",
              "      \u003Ctd\u003ETrue\u003C/td\u003E\n",
              "      \u003Ctd\u003EFalse\u003C/td\u003E\n",
              "    \u003C/tr\u003E\n",
              "    \u003Ctr\u003E\n",
              "      \u003Cth\u003EG\u003C/th\u003E\n",
              "      \u003Ctd\u003EFalse\u003C/td\u003E\n",
              "      \u003Ctd\u003EFalse\u003C/td\u003E\n",
              "      \u003Ctd\u003EFalse\u003C/td\u003E\n",
              "    \u003C/tr\u003E\n",
              "    \u003Ctr\u003E\n",
              "      \u003Cth\u003EH\u003C/th\u003E\n",
              "      \u003Ctd\u003EFalse\u003C/td\u003E\n",
              "      \u003Ctd\u003EFalse\u003C/td\u003E\n",
              "      \u003Ctd\u003EFalse\u003C/td\u003E\n",
              "    \u003C/tr\u003E\n",
              "    \u003Ctr\u003E\n",
              "      \u003Cth\u003EI\u003C/th\u003E\n",
              "      \u003Ctd\u003EFalse\u003C/td\u003E\n",
              "      \u003Ctd\u003EFalse\u003C/td\u003E\n",
              "      \u003Ctd\u003EFalse\u003C/td\u003E\n",
              "    \u003C/tr\u003E\n",
              "  \u003C/tbody\u003E\n",
              "\u003C/table\u003E\n",
              "\u003C/div\u003E"
            ],
            "text/plain": [
              "          Cena  Liczba sprzedanych  Ocena klienta\n",
              "Produkt                                          \n",
              "A        False               False          False\n",
              "B        False               False          False\n",
              "C        False               False          False\n",
              "D        False               False          False\n",
              "E        False               False          False\n",
              "F        False                True          False\n",
              "G        False               False          False\n",
              "H        False               False          False\n",
              "I        False               False          False"
            ]
          },
          "execution_count": 6,
          "metadata": {

          },
          "output_type": "execute_result"
        }
      ],
      "source": [
        "df.isnull()"
      ]
    },
    {
      "cell_type": "code",
      "execution_count": 7,
      "id": "051692bf",
      "metadata": {

      },
      "outputs": [
        {
          "data": {
            "text/plain": [
              "True"
            ]
          },
          "execution_count": 7,
          "metadata": {

          },
          "output_type": "execute_result"
        }
      ],
      "source": [
        "df.isnull().values.any()"
      ]
    },
    {
      "cell_type": "code",
      "execution_count": 8,
      "id": "51faf488",
      "metadata": {

      },
      "outputs": [
        {
          "data": {
            "text/html": [
              "\u003Cdiv\u003E\n",
              "\u003Cstyle scoped\u003E\n",
              "    .dataframe tbody tr th:only-of-type {\n",
              "        vertical-align: middle;\n",
              "    }\n",
              "\n",
              "    .dataframe tbody tr th {\n",
              "        vertical-align: top;\n",
              "    }\n",
              "\n",
              "    .dataframe thead th {\n",
              "        text-align: right;\n",
              "    }\n",
              "\u003C/style\u003E\n",
              "\u003Ctable border=\"1\" class=\"dataframe\"\u003E\n",
              "  \u003Cthead\u003E\n",
              "    \u003Ctr style=\"text-align: right;\"\u003E\n",
              "      \u003Cth\u003E\u003C/th\u003E\n",
              "      \u003Cth\u003ECena\u003C/th\u003E\n",
              "      \u003Cth\u003ELiczba sprzedanych\u003C/th\u003E\n",
              "      \u003Cth\u003EOcena klienta\u003C/th\u003E\n",
              "    \u003C/tr\u003E\n",
              "    \u003Ctr\u003E\n",
              "      \u003Cth\u003EProdukt\u003C/th\u003E\n",
              "      \u003Cth\u003E\u003C/th\u003E\n",
              "      \u003Cth\u003E\u003C/th\u003E\n",
              "      \u003Cth\u003E\u003C/th\u003E\n",
              "    \u003C/tr\u003E\n",
              "  \u003C/thead\u003E\n",
              "  \u003Ctbody\u003E\n",
              "    \u003Ctr\u003E\n",
              "      \u003Cth\u003EA\u003C/th\u003E\n",
              "      \u003Ctd\u003E10.38\u003C/td\u003E\n",
              "      \u003Ctd\u003E50.0\u003C/td\u003E\n",
              "      \u003Ctd\u003E4\u003C/td\u003E\n",
              "    \u003C/tr\u003E\n",
              "    \u003Ctr\u003E\n",
              "      \u003Cth\u003EB\u003C/th\u003E\n",
              "      \u003Ctd\u003E15.50\u003C/td\u003E\n",
              "      \u003Ctd\u003E30.0\u003C/td\u003E\n",
              "      \u003Ctd\u003E5\u003C/td\u003E\n",
              "    \u003C/tr\u003E\n",
              "    \u003Ctr\u003E\n",
              "      \u003Cth\u003EC\u003C/th\u003E\n",
              "      \u003Ctd\u003E8.29\u003C/td\u003E\n",
              "      \u003Ctd\u003E70.0\u003C/td\u003E\n",
              "      \u003Ctd\u003E3\u003C/td\u003E\n",
              "    \u003C/tr\u003E\n",
              "    \u003Ctr\u003E\n",
              "      \u003Cth\u003ED\u003C/th\u003E\n",
              "      \u003Ctd\u003E20.99\u003C/td\u003E\n",
              "      \u003Ctd\u003E30.0\u003C/td\u003E\n",
              "      \u003Ctd\u003E4\u003C/td\u003E\n",
              "    \u003C/tr\u003E\n",
              "    \u003Ctr\u003E\n",
              "      \u003Cth\u003EE\u003C/th\u003E\n",
              "      \u003Ctd\u003E12.00\u003C/td\u003E\n",
              "      \u003Ctd\u003E200.0\u003C/td\u003E\n",
              "      \u003Ctd\u003E4\u003C/td\u003E\n",
              "    \u003C/tr\u003E\n",
              "    \u003Ctr\u003E\n",
              "      \u003Cth\u003EG\u003C/th\u003E\n",
              "      \u003Ctd\u003E11.99\u003C/td\u003E\n",
              "      \u003Ctd\u003E60.0\u003C/td\u003E\n",
              "      \u003Ctd\u003E5\u003C/td\u003E\n",
              "    \u003C/tr\u003E\n",
              "    \u003Ctr\u003E\n",
              "      \u003Cth\u003EH\u003C/th\u003E\n",
              "      \u003Ctd\u003E85.89\u003C/td\u003E\n",
              "      \u003Ctd\u003E5.0\u003C/td\u003E\n",
              "      \u003Ctd\u003E1\u003C/td\u003E\n",
              "    \u003C/tr\u003E\n",
              "    \u003Ctr\u003E\n",
              "      \u003Cth\u003EI\u003C/th\u003E\n",
              "      \u003Ctd\u003E10.38\u003C/td\u003E\n",
              "      \u003Ctd\u003E50.0\u003C/td\u003E\n",
              "      \u003Ctd\u003E4\u003C/td\u003E\n",
              "    \u003C/tr\u003E\n",
              "  \u003C/tbody\u003E\n",
              "\u003C/table\u003E\n",
              "\u003C/div\u003E"
            ],
            "text/plain": [
              "          Cena  Liczba sprzedanych  Ocena klienta\n",
              "Produkt                                          \n",
              "A        10.38                50.0              4\n",
              "B        15.50                30.0              5\n",
              "C         8.29                70.0              3\n",
              "D        20.99                30.0              4\n",
              "E        12.00               200.0              4\n",
              "G        11.99                60.0              5\n",
              "H        85.89                 5.0              1\n",
              "I        10.38                50.0              4"
            ]
          },
          "execution_count": 8,
          "metadata": {

          },
          "output_type": "execute_result"
        }
      ],
      "source": [
        "# Usuwanie wierszy z brakami w danych\n",
        "\n",
        "df.dropna()"
      ]
    },
    {
      "cell_type": "code",
      "execution_count": 9,
      "id": "fd08af69",
      "metadata": {

      },
      "outputs": [
        {
          "data": {
            "text/html": [
              "\u003Cdiv\u003E\n",
              "\u003Cstyle scoped\u003E\n",
              "    .dataframe tbody tr th:only-of-type {\n",
              "        vertical-align: middle;\n",
              "    }\n",
              "\n",
              "    .dataframe tbody tr th {\n",
              "        vertical-align: top;\n",
              "    }\n",
              "\n",
              "    .dataframe thead th {\n",
              "        text-align: right;\n",
              "    }\n",
              "\u003C/style\u003E\n",
              "\u003Ctable border=\"1\" class=\"dataframe\"\u003E\n",
              "  \u003Cthead\u003E\n",
              "    \u003Ctr style=\"text-align: right;\"\u003E\n",
              "      \u003Cth\u003E\u003C/th\u003E\n",
              "      \u003Cth\u003ECena\u003C/th\u003E\n",
              "      \u003Cth\u003EOcena klienta\u003C/th\u003E\n",
              "    \u003C/tr\u003E\n",
              "    \u003Ctr\u003E\n",
              "      \u003Cth\u003EProdukt\u003C/th\u003E\n",
              "      \u003Cth\u003E\u003C/th\u003E\n",
              "      \u003Cth\u003E\u003C/th\u003E\n",
              "    \u003C/tr\u003E\n",
              "  \u003C/thead\u003E\n",
              "  \u003Ctbody\u003E\n",
              "    \u003Ctr\u003E\n",
              "      \u003Cth\u003EA\u003C/th\u003E\n",
              "      \u003Ctd\u003E10.38\u003C/td\u003E\n",
              "      \u003Ctd\u003E4\u003C/td\u003E\n",
              "    \u003C/tr\u003E\n",
              "    \u003Ctr\u003E\n",
              "      \u003Cth\u003EB\u003C/th\u003E\n",
              "      \u003Ctd\u003E15.50\u003C/td\u003E\n",
              "      \u003Ctd\u003E5\u003C/td\u003E\n",
              "    \u003C/tr\u003E\n",
              "    \u003Ctr\u003E\n",
              "      \u003Cth\u003EC\u003C/th\u003E\n",
              "      \u003Ctd\u003E8.29\u003C/td\u003E\n",
              "      \u003Ctd\u003E3\u003C/td\u003E\n",
              "    \u003C/tr\u003E\n",
              "    \u003Ctr\u003E\n",
              "      \u003Cth\u003ED\u003C/th\u003E\n",
              "      \u003Ctd\u003E20.99\u003C/td\u003E\n",
              "      \u003Ctd\u003E4\u003C/td\u003E\n",
              "    \u003C/tr\u003E\n",
              "    \u003Ctr\u003E\n",
              "      \u003Cth\u003EE\u003C/th\u003E\n",
              "      \u003Ctd\u003E12.00\u003C/td\u003E\n",
              "      \u003Ctd\u003E4\u003C/td\u003E\n",
              "    \u003C/tr\u003E\n",
              "    \u003Ctr\u003E\n",
              "      \u003Cth\u003EF\u003C/th\u003E\n",
              "      \u003Ctd\u003E14.49\u003C/td\u003E\n",
              "      \u003Ctd\u003E2\u003C/td\u003E\n",
              "    \u003C/tr\u003E\n",
              "    \u003Ctr\u003E\n",
              "      \u003Cth\u003EG\u003C/th\u003E\n",
              "      \u003Ctd\u003E11.99\u003C/td\u003E\n",
              "      \u003Ctd\u003E5\u003C/td\u003E\n",
              "    \u003C/tr\u003E\n",
              "    \u003Ctr\u003E\n",
              "      \u003Cth\u003EH\u003C/th\u003E\n",
              "      \u003Ctd\u003E85.89\u003C/td\u003E\n",
              "      \u003Ctd\u003E1\u003C/td\u003E\n",
              "    \u003C/tr\u003E\n",
              "    \u003Ctr\u003E\n",
              "      \u003Cth\u003EI\u003C/th\u003E\n",
              "      \u003Ctd\u003E10.38\u003C/td\u003E\n",
              "      \u003Ctd\u003E4\u003C/td\u003E\n",
              "    \u003C/tr\u003E\n",
              "  \u003C/tbody\u003E\n",
              "\u003C/table\u003E\n",
              "\u003C/div\u003E"
            ],
            "text/plain": [
              "          Cena  Ocena klienta\n",
              "Produkt                      \n",
              "A        10.38              4\n",
              "B        15.50              5\n",
              "C         8.29              3\n",
              "D        20.99              4\n",
              "E        12.00              4\n",
              "F        14.49              2\n",
              "G        11.99              5\n",
              "H        85.89              1\n",
              "I        10.38              4"
            ]
          },
          "execution_count": 9,
          "metadata": {

          },
          "output_type": "execute_result"
        }
      ],
      "source": [
        "# Usuwanie kolumn z brakami w danych\n",
        "\n",
        "df.dropna(axis=1)"
      ]
    },
    {
      "cell_type": "code",
      "execution_count": 10,
      "id": "a987db28",
      "metadata": {

      },
      "outputs": [
        {
          "data": {
            "text/html": [
              "\u003Cdiv\u003E\n",
              "\u003Cstyle scoped\u003E\n",
              "    .dataframe tbody tr th:only-of-type {\n",
              "        vertical-align: middle;\n",
              "    }\n",
              "\n",
              "    .dataframe tbody tr th {\n",
              "        vertical-align: top;\n",
              "    }\n",
              "\n",
              "    .dataframe thead th {\n",
              "        text-align: right;\n",
              "    }\n",
              "\u003C/style\u003E\n",
              "\u003Ctable border=\"1\" class=\"dataframe\"\u003E\n",
              "  \u003Cthead\u003E\n",
              "    \u003Ctr style=\"text-align: right;\"\u003E\n",
              "      \u003Cth\u003E\u003C/th\u003E\n",
              "      \u003Cth\u003ECena\u003C/th\u003E\n",
              "      \u003Cth\u003ELiczba sprzedanych\u003C/th\u003E\n",
              "      \u003Cth\u003EOcena klienta\u003C/th\u003E\n",
              "    \u003C/tr\u003E\n",
              "    \u003Ctr\u003E\n",
              "      \u003Cth\u003EProdukt\u003C/th\u003E\n",
              "      \u003Cth\u003E\u003C/th\u003E\n",
              "      \u003Cth\u003E\u003C/th\u003E\n",
              "      \u003Cth\u003E\u003C/th\u003E\n",
              "    \u003C/tr\u003E\n",
              "  \u003C/thead\u003E\n",
              "  \u003Ctbody\u003E\n",
              "    \u003Ctr\u003E\n",
              "      \u003Cth\u003EA\u003C/th\u003E\n",
              "      \u003Ctd\u003E10.38\u003C/td\u003E\n",
              "      \u003Ctd\u003E50.0\u003C/td\u003E\n",
              "      \u003Ctd\u003E4\u003C/td\u003E\n",
              "    \u003C/tr\u003E\n",
              "    \u003Ctr\u003E\n",
              "      \u003Cth\u003EB\u003C/th\u003E\n",
              "      \u003Ctd\u003E15.50\u003C/td\u003E\n",
              "      \u003Ctd\u003E30.0\u003C/td\u003E\n",
              "      \u003Ctd\u003E5\u003C/td\u003E\n",
              "    \u003C/tr\u003E\n",
              "    \u003Ctr\u003E\n",
              "      \u003Cth\u003EC\u003C/th\u003E\n",
              "      \u003Ctd\u003E8.29\u003C/td\u003E\n",
              "      \u003Ctd\u003E70.0\u003C/td\u003E\n",
              "      \u003Ctd\u003E3\u003C/td\u003E\n",
              "    \u003C/tr\u003E\n",
              "    \u003Ctr\u003E\n",
              "      \u003Cth\u003ED\u003C/th\u003E\n",
              "      \u003Ctd\u003E20.99\u003C/td\u003E\n",
              "      \u003Ctd\u003E30.0\u003C/td\u003E\n",
              "      \u003Ctd\u003E4\u003C/td\u003E\n",
              "    \u003C/tr\u003E\n",
              "    \u003Ctr\u003E\n",
              "      \u003Cth\u003EE\u003C/th\u003E\n",
              "      \u003Ctd\u003E12.00\u003C/td\u003E\n",
              "      \u003Ctd\u003E200.0\u003C/td\u003E\n",
              "      \u003Ctd\u003E4\u003C/td\u003E\n",
              "    \u003C/tr\u003E\n",
              "    \u003Ctr\u003E\n",
              "      \u003Cth\u003EF\u003C/th\u003E\n",
              "      \u003Ctd\u003E14.49\u003C/td\u003E\n",
              "      \u003Ctd\u003E50.0\u003C/td\u003E\n",
              "      \u003Ctd\u003E2\u003C/td\u003E\n",
              "    \u003C/tr\u003E\n",
              "    \u003Ctr\u003E\n",
              "      \u003Cth\u003EG\u003C/th\u003E\n",
              "      \u003Ctd\u003E11.99\u003C/td\u003E\n",
              "      \u003Ctd\u003E60.0\u003C/td\u003E\n",
              "      \u003Ctd\u003E5\u003C/td\u003E\n",
              "    \u003C/tr\u003E\n",
              "    \u003Ctr\u003E\n",
              "      \u003Cth\u003EH\u003C/th\u003E\n",
              "      \u003Ctd\u003E85.89\u003C/td\u003E\n",
              "      \u003Ctd\u003E5.0\u003C/td\u003E\n",
              "      \u003Ctd\u003E1\u003C/td\u003E\n",
              "    \u003C/tr\u003E\n",
              "    \u003Ctr\u003E\n",
              "      \u003Cth\u003EI\u003C/th\u003E\n",
              "      \u003Ctd\u003E10.38\u003C/td\u003E\n",
              "      \u003Ctd\u003E50.0\u003C/td\u003E\n",
              "      \u003Ctd\u003E4\u003C/td\u003E\n",
              "    \u003C/tr\u003E\n",
              "  \u003C/tbody\u003E\n",
              "\u003C/table\u003E\n",
              "\u003C/div\u003E"
            ],
            "text/plain": [
              "          Cena  Liczba sprzedanych  Ocena klienta\n",
              "Produkt                                          \n",
              "A        10.38                50.0              4\n",
              "B        15.50                30.0              5\n",
              "C         8.29                70.0              3\n",
              "D        20.99                30.0              4\n",
              "E        12.00               200.0              4\n",
              "F        14.49                50.0              2\n",
              "G        11.99                60.0              5\n",
              "H        85.89                 5.0              1\n",
              "I        10.38                50.0              4"
            ]
          },
          "execution_count": 10,
          "metadata": {

          },
          "output_type": "execute_result"
        }
      ],
      "source": [
        "# Uzupełnianie braków w danych inną, stałą wartość\n",
        "\n",
        "df.fillna(50)"
      ]
    },
    {
      "cell_type": "code",
      "execution_count": 11,
      "id": "29e5c75e",
      "metadata": {

      },
      "outputs": [
        {
          "data": {
            "text/html": [
              "\u003Cdiv\u003E\n",
              "\u003Cstyle scoped\u003E\n",
              "    .dataframe tbody tr th:only-of-type {\n",
              "        vertical-align: middle;\n",
              "    }\n",
              "\n",
              "    .dataframe tbody tr th {\n",
              "        vertical-align: top;\n",
              "    }\n",
              "\n",
              "    .dataframe thead th {\n",
              "        text-align: right;\n",
              "    }\n",
              "\u003C/style\u003E\n",
              "\u003Ctable border=\"1\" class=\"dataframe\"\u003E\n",
              "  \u003Cthead\u003E\n",
              "    \u003Ctr style=\"text-align: right;\"\u003E\n",
              "      \u003Cth\u003E\u003C/th\u003E\n",
              "      \u003Cth\u003ECena\u003C/th\u003E\n",
              "      \u003Cth\u003ELiczba sprzedanych\u003C/th\u003E\n",
              "      \u003Cth\u003EOcena klienta\u003C/th\u003E\n",
              "    \u003C/tr\u003E\n",
              "    \u003Ctr\u003E\n",
              "      \u003Cth\u003EProdukt\u003C/th\u003E\n",
              "      \u003Cth\u003E\u003C/th\u003E\n",
              "      \u003Cth\u003E\u003C/th\u003E\n",
              "      \u003Cth\u003E\u003C/th\u003E\n",
              "    \u003C/tr\u003E\n",
              "  \u003C/thead\u003E\n",
              "  \u003Ctbody\u003E\n",
              "    \u003Ctr\u003E\n",
              "      \u003Cth\u003EA\u003C/th\u003E\n",
              "      \u003Ctd\u003E10.38\u003C/td\u003E\n",
              "      \u003Ctd\u003E50.0\u003C/td\u003E\n",
              "      \u003Ctd\u003E4\u003C/td\u003E\n",
              "    \u003C/tr\u003E\n",
              "    \u003Ctr\u003E\n",
              "      \u003Cth\u003EB\u003C/th\u003E\n",
              "      \u003Ctd\u003E15.50\u003C/td\u003E\n",
              "      \u003Ctd\u003E30.0\u003C/td\u003E\n",
              "      \u003Ctd\u003E5\u003C/td\u003E\n",
              "    \u003C/tr\u003E\n",
              "    \u003Ctr\u003E\n",
              "      \u003Cth\u003EC\u003C/th\u003E\n",
              "      \u003Ctd\u003E8.29\u003C/td\u003E\n",
              "      \u003Ctd\u003E70.0\u003C/td\u003E\n",
              "      \u003Ctd\u003E3\u003C/td\u003E\n",
              "    \u003C/tr\u003E\n",
              "    \u003Ctr\u003E\n",
              "      \u003Cth\u003ED\u003C/th\u003E\n",
              "      \u003Ctd\u003E20.99\u003C/td\u003E\n",
              "      \u003Ctd\u003E30.0\u003C/td\u003E\n",
              "      \u003Ctd\u003E4\u003C/td\u003E\n",
              "    \u003C/tr\u003E\n",
              "    \u003Ctr\u003E\n",
              "      \u003Cth\u003EE\u003C/th\u003E\n",
              "      \u003Ctd\u003E12.00\u003C/td\u003E\n",
              "      \u003Ctd\u003E200.0\u003C/td\u003E\n",
              "      \u003Ctd\u003E4\u003C/td\u003E\n",
              "    \u003C/tr\u003E\n",
              "    \u003Ctr\u003E\n",
              "      \u003Cth\u003EF\u003C/th\u003E\n",
              "      \u003Ctd\u003E14.49\u003C/td\u003E\n",
              "      \u003Ctd\u003ENaN\u003C/td\u003E\n",
              "      \u003Ctd\u003E2\u003C/td\u003E\n",
              "    \u003C/tr\u003E\n",
              "    \u003Ctr\u003E\n",
              "      \u003Cth\u003EG\u003C/th\u003E\n",
              "      \u003Ctd\u003E11.99\u003C/td\u003E\n",
              "      \u003Ctd\u003E60.0\u003C/td\u003E\n",
              "      \u003Ctd\u003E5\u003C/td\u003E\n",
              "    \u003C/tr\u003E\n",
              "    \u003Ctr\u003E\n",
              "      \u003Cth\u003EH\u003C/th\u003E\n",
              "      \u003Ctd\u003E85.89\u003C/td\u003E\n",
              "      \u003Ctd\u003E5.0\u003C/td\u003E\n",
              "      \u003Ctd\u003E1\u003C/td\u003E\n",
              "    \u003C/tr\u003E\n",
              "    \u003Ctr\u003E\n",
              "      \u003Cth\u003EI\u003C/th\u003E\n",
              "      \u003Ctd\u003E10.38\u003C/td\u003E\n",
              "      \u003Ctd\u003E50.0\u003C/td\u003E\n",
              "      \u003Ctd\u003E4\u003C/td\u003E\n",
              "    \u003C/tr\u003E\n",
              "  \u003C/tbody\u003E\n",
              "\u003C/table\u003E\n",
              "\u003C/div\u003E"
            ],
            "text/plain": [
              "          Cena  Liczba sprzedanych  Ocena klienta\n",
              "Produkt                                          \n",
              "A        10.38                50.0              4\n",
              "B        15.50                30.0              5\n",
              "C         8.29                70.0              3\n",
              "D        20.99                30.0              4\n",
              "E        12.00               200.0              4\n",
              "F        14.49                 NaN              2\n",
              "G        11.99                60.0              5\n",
              "H        85.89                 5.0              1\n",
              "I        10.38                50.0              4"
            ]
          },
          "execution_count": 11,
          "metadata": {

          },
          "output_type": "execute_result"
        }
      ],
      "source": [
        "df"
      ]
    },
    {
      "cell_type": "code",
      "execution_count": 12,
      "id": "6f6ce048",
      "metadata": {

      },
      "outputs": [
        {
          "data": {
            "text/html": [
              "\u003Cdiv\u003E\n",
              "\u003Cstyle scoped\u003E\n",
              "    .dataframe tbody tr th:only-of-type {\n",
              "        vertical-align: middle;\n",
              "    }\n",
              "\n",
              "    .dataframe tbody tr th {\n",
              "        vertical-align: top;\n",
              "    }\n",
              "\n",
              "    .dataframe thead th {\n",
              "        text-align: right;\n",
              "    }\n",
              "\u003C/style\u003E\n",
              "\u003Ctable border=\"1\" class=\"dataframe\"\u003E\n",
              "  \u003Cthead\u003E\n",
              "    \u003Ctr style=\"text-align: right;\"\u003E\n",
              "      \u003Cth\u003E\u003C/th\u003E\n",
              "      \u003Cth\u003ECena\u003C/th\u003E\n",
              "      \u003Cth\u003ELiczba sprzedanych\u003C/th\u003E\n",
              "      \u003Cth\u003EOcena klienta\u003C/th\u003E\n",
              "    \u003C/tr\u003E\n",
              "    \u003Ctr\u003E\n",
              "      \u003Cth\u003EProdukt\u003C/th\u003E\n",
              "      \u003Cth\u003E\u003C/th\u003E\n",
              "      \u003Cth\u003E\u003C/th\u003E\n",
              "      \u003Cth\u003E\u003C/th\u003E\n",
              "    \u003C/tr\u003E\n",
              "  \u003C/thead\u003E\n",
              "  \u003Ctbody\u003E\n",
              "    \u003Ctr\u003E\n",
              "      \u003Cth\u003EA\u003C/th\u003E\n",
              "      \u003Ctd\u003E10.38\u003C/td\u003E\n",
              "      \u003Ctd\u003E50\u003C/td\u003E\n",
              "      \u003Ctd\u003E4\u003C/td\u003E\n",
              "    \u003C/tr\u003E\n",
              "    \u003Ctr\u003E\n",
              "      \u003Cth\u003EB\u003C/th\u003E\n",
              "      \u003Ctd\u003E15.50\u003C/td\u003E\n",
              "      \u003Ctd\u003E30\u003C/td\u003E\n",
              "      \u003Ctd\u003E5\u003C/td\u003E\n",
              "    \u003C/tr\u003E\n",
              "    \u003Ctr\u003E\n",
              "      \u003Cth\u003EC\u003C/th\u003E\n",
              "      \u003Ctd\u003E8.29\u003C/td\u003E\n",
              "      \u003Ctd\u003E70\u003C/td\u003E\n",
              "      \u003Ctd\u003E3\u003C/td\u003E\n",
              "    \u003C/tr\u003E\n",
              "    \u003Ctr\u003E\n",
              "      \u003Cth\u003ED\u003C/th\u003E\n",
              "      \u003Ctd\u003E20.99\u003C/td\u003E\n",
              "      \u003Ctd\u003E30\u003C/td\u003E\n",
              "      \u003Ctd\u003E4\u003C/td\u003E\n",
              "    \u003C/tr\u003E\n",
              "    \u003Ctr\u003E\n",
              "      \u003Cth\u003EE\u003C/th\u003E\n",
              "      \u003Ctd\u003E12.00\u003C/td\u003E\n",
              "      \u003Ctd\u003E200\u003C/td\u003E\n",
              "      \u003Ctd\u003E4\u003C/td\u003E\n",
              "    \u003C/tr\u003E\n",
              "    \u003Ctr\u003E\n",
              "      \u003Cth\u003EF\u003C/th\u003E\n",
              "      \u003Ctd\u003E14.49\u003C/td\u003E\n",
              "      \u003Ctd\u003E62\u003C/td\u003E\n",
              "      \u003Ctd\u003E2\u003C/td\u003E\n",
              "    \u003C/tr\u003E\n",
              "    \u003Ctr\u003E\n",
              "      \u003Cth\u003EG\u003C/th\u003E\n",
              "      \u003Ctd\u003E11.99\u003C/td\u003E\n",
              "      \u003Ctd\u003E60\u003C/td\u003E\n",
              "      \u003Ctd\u003E5\u003C/td\u003E\n",
              "    \u003C/tr\u003E\n",
              "    \u003Ctr\u003E\n",
              "      \u003Cth\u003EH\u003C/th\u003E\n",
              "      \u003Ctd\u003E85.89\u003C/td\u003E\n",
              "      \u003Ctd\u003E5\u003C/td\u003E\n",
              "      \u003Ctd\u003E1\u003C/td\u003E\n",
              "    \u003C/tr\u003E\n",
              "    \u003Ctr\u003E\n",
              "      \u003Cth\u003EI\u003C/th\u003E\n",
              "      \u003Ctd\u003E10.38\u003C/td\u003E\n",
              "      \u003Ctd\u003E50\u003C/td\u003E\n",
              "      \u003Ctd\u003E4\u003C/td\u003E\n",
              "    \u003C/tr\u003E\n",
              "  \u003C/tbody\u003E\n",
              "\u003C/table\u003E\n",
              "\u003C/div\u003E"
            ],
            "text/plain": [
              "          Cena  Liczba sprzedanych  Ocena klienta\n",
              "Produkt                                          \n",
              "A        10.38                  50              4\n",
              "B        15.50                  30              5\n",
              "C         8.29                  70              3\n",
              "D        20.99                  30              4\n",
              "E        12.00                 200              4\n",
              "F        14.49                  62              2\n",
              "G        11.99                  60              5\n",
              "H        85.89                   5              1\n",
              "I        10.38                  50              4"
            ]
          },
          "execution_count": 12,
          "metadata": {

          },
          "output_type": "execute_result"
        }
      ],
      "source": [
        "# Uzupełnianie braków w danych wartością średnią\n",
        "\n",
        "df_mean = df.copy()\n",
        "\n",
        "df_mean['Liczba sprzedanych'] = df['Liczba sprzedanych'].fillna(df['Liczba sprzedanych'].mean())\n",
        "\n",
        "df_mean['Liczba sprzedanych'] = df_mean['Liczba sprzedanych'].round().astype(int)\n",
        "\n",
        "df_mean"
      ]
    },
    {
      "cell_type": "code",
      "execution_count": 13,
      "id": "d640d563",
      "metadata": {

      },
      "outputs": [
        {
          "data": {
            "text/html": [
              "\u003Cdiv\u003E\n",
              "\u003Cstyle scoped\u003E\n",
              "    .dataframe tbody tr th:only-of-type {\n",
              "        vertical-align: middle;\n",
              "    }\n",
              "\n",
              "    .dataframe tbody tr th {\n",
              "        vertical-align: top;\n",
              "    }\n",
              "\n",
              "    .dataframe thead th {\n",
              "        text-align: right;\n",
              "    }\n",
              "\u003C/style\u003E\n",
              "\u003Ctable border=\"1\" class=\"dataframe\"\u003E\n",
              "  \u003Cthead\u003E\n",
              "    \u003Ctr style=\"text-align: right;\"\u003E\n",
              "      \u003Cth\u003E\u003C/th\u003E\n",
              "      \u003Cth\u003ECena\u003C/th\u003E\n",
              "      \u003Cth\u003ELiczba sprzedanych\u003C/th\u003E\n",
              "      \u003Cth\u003EOcena klienta\u003C/th\u003E\n",
              "    \u003C/tr\u003E\n",
              "    \u003Ctr\u003E\n",
              "      \u003Cth\u003EProdukt\u003C/th\u003E\n",
              "      \u003Cth\u003E\u003C/th\u003E\n",
              "      \u003Cth\u003E\u003C/th\u003E\n",
              "      \u003Cth\u003E\u003C/th\u003E\n",
              "    \u003C/tr\u003E\n",
              "  \u003C/thead\u003E\n",
              "  \u003Ctbody\u003E\n",
              "    \u003Ctr\u003E\n",
              "      \u003Cth\u003EA\u003C/th\u003E\n",
              "      \u003Ctd\u003E10.38\u003C/td\u003E\n",
              "      \u003Ctd\u003E50.0\u003C/td\u003E\n",
              "      \u003Ctd\u003E4\u003C/td\u003E\n",
              "    \u003C/tr\u003E\n",
              "    \u003Ctr\u003E\n",
              "      \u003Cth\u003EB\u003C/th\u003E\n",
              "      \u003Ctd\u003E15.50\u003C/td\u003E\n",
              "      \u003Ctd\u003E30.0\u003C/td\u003E\n",
              "      \u003Ctd\u003E5\u003C/td\u003E\n",
              "    \u003C/tr\u003E\n",
              "    \u003Ctr\u003E\n",
              "      \u003Cth\u003EC\u003C/th\u003E\n",
              "      \u003Ctd\u003E8.29\u003C/td\u003E\n",
              "      \u003Ctd\u003E70.0\u003C/td\u003E\n",
              "      \u003Ctd\u003E3\u003C/td\u003E\n",
              "    \u003C/tr\u003E\n",
              "    \u003Ctr\u003E\n",
              "      \u003Cth\u003ED\u003C/th\u003E\n",
              "      \u003Ctd\u003E20.99\u003C/td\u003E\n",
              "      \u003Ctd\u003E30.0\u003C/td\u003E\n",
              "      \u003Ctd\u003E4\u003C/td\u003E\n",
              "    \u003C/tr\u003E\n",
              "    \u003Ctr\u003E\n",
              "      \u003Cth\u003EE\u003C/th\u003E\n",
              "      \u003Ctd\u003E12.00\u003C/td\u003E\n",
              "      \u003Ctd\u003E200.0\u003C/td\u003E\n",
              "      \u003Ctd\u003E4\u003C/td\u003E\n",
              "    \u003C/tr\u003E\n",
              "    \u003Ctr\u003E\n",
              "      \u003Cth\u003EF\u003C/th\u003E\n",
              "      \u003Ctd\u003E14.49\u003C/td\u003E\n",
              "      \u003Ctd\u003ENaN\u003C/td\u003E\n",
              "      \u003Ctd\u003E2\u003C/td\u003E\n",
              "    \u003C/tr\u003E\n",
              "    \u003Ctr\u003E\n",
              "      \u003Cth\u003EG\u003C/th\u003E\n",
              "      \u003Ctd\u003E11.99\u003C/td\u003E\n",
              "      \u003Ctd\u003E60.0\u003C/td\u003E\n",
              "      \u003Ctd\u003E5\u003C/td\u003E\n",
              "    \u003C/tr\u003E\n",
              "    \u003Ctr\u003E\n",
              "      \u003Cth\u003EH\u003C/th\u003E\n",
              "      \u003Ctd\u003E85.89\u003C/td\u003E\n",
              "      \u003Ctd\u003E5.0\u003C/td\u003E\n",
              "      \u003Ctd\u003E1\u003C/td\u003E\n",
              "    \u003C/tr\u003E\n",
              "    \u003Ctr\u003E\n",
              "      \u003Cth\u003EI\u003C/th\u003E\n",
              "      \u003Ctd\u003E10.38\u003C/td\u003E\n",
              "      \u003Ctd\u003E50.0\u003C/td\u003E\n",
              "      \u003Ctd\u003E4\u003C/td\u003E\n",
              "    \u003C/tr\u003E\n",
              "  \u003C/tbody\u003E\n",
              "\u003C/table\u003E\n",
              "\u003C/div\u003E"
            ],
            "text/plain": [
              "          Cena  Liczba sprzedanych  Ocena klienta\n",
              "Produkt                                          \n",
              "A        10.38                50.0              4\n",
              "B        15.50                30.0              5\n",
              "C         8.29                70.0              3\n",
              "D        20.99                30.0              4\n",
              "E        12.00               200.0              4\n",
              "F        14.49                 NaN              2\n",
              "G        11.99                60.0              5\n",
              "H        85.89                 5.0              1\n",
              "I        10.38                50.0              4"
            ]
          },
          "execution_count": 13,
          "metadata": {

          },
          "output_type": "execute_result"
        }
      ],
      "source": [
        "df"
      ]
    },
    {
      "cell_type": "code",
      "execution_count": 14,
      "id": "d6558917",
      "metadata": {

      },
      "outputs": [
        {
          "data": {
            "text/html": [
              "\u003Cdiv\u003E\n",
              "\u003Cstyle scoped\u003E\n",
              "    .dataframe tbody tr th:only-of-type {\n",
              "        vertical-align: middle;\n",
              "    }\n",
              "\n",
              "    .dataframe tbody tr th {\n",
              "        vertical-align: top;\n",
              "    }\n",
              "\n",
              "    .dataframe thead th {\n",
              "        text-align: right;\n",
              "    }\n",
              "\u003C/style\u003E\n",
              "\u003Ctable border=\"1\" class=\"dataframe\"\u003E\n",
              "  \u003Cthead\u003E\n",
              "    \u003Ctr style=\"text-align: right;\"\u003E\n",
              "      \u003Cth\u003E\u003C/th\u003E\n",
              "      \u003Cth\u003ECena\u003C/th\u003E\n",
              "      \u003Cth\u003ELiczba sprzedanych\u003C/th\u003E\n",
              "      \u003Cth\u003EOcena klienta\u003C/th\u003E\n",
              "    \u003C/tr\u003E\n",
              "    \u003Ctr\u003E\n",
              "      \u003Cth\u003EProdukt\u003C/th\u003E\n",
              "      \u003Cth\u003E\u003C/th\u003E\n",
              "      \u003Cth\u003E\u003C/th\u003E\n",
              "      \u003Cth\u003E\u003C/th\u003E\n",
              "    \u003C/tr\u003E\n",
              "  \u003C/thead\u003E\n",
              "  \u003Ctbody\u003E\n",
              "    \u003Ctr\u003E\n",
              "      \u003Cth\u003EA\u003C/th\u003E\n",
              "      \u003Ctd\u003E10.38\u003C/td\u003E\n",
              "      \u003Ctd\u003E50\u003C/td\u003E\n",
              "      \u003Ctd\u003E4\u003C/td\u003E\n",
              "    \u003C/tr\u003E\n",
              "    \u003Ctr\u003E\n",
              "      \u003Cth\u003EB\u003C/th\u003E\n",
              "      \u003Ctd\u003E15.50\u003C/td\u003E\n",
              "      \u003Ctd\u003E30\u003C/td\u003E\n",
              "      \u003Ctd\u003E5\u003C/td\u003E\n",
              "    \u003C/tr\u003E\n",
              "    \u003Ctr\u003E\n",
              "      \u003Cth\u003EC\u003C/th\u003E\n",
              "      \u003Ctd\u003E8.29\u003C/td\u003E\n",
              "      \u003Ctd\u003E70\u003C/td\u003E\n",
              "      \u003Ctd\u003E3\u003C/td\u003E\n",
              "    \u003C/tr\u003E\n",
              "    \u003Ctr\u003E\n",
              "      \u003Cth\u003ED\u003C/th\u003E\n",
              "      \u003Ctd\u003E20.99\u003C/td\u003E\n",
              "      \u003Ctd\u003E30\u003C/td\u003E\n",
              "      \u003Ctd\u003E4\u003C/td\u003E\n",
              "    \u003C/tr\u003E\n",
              "    \u003Ctr\u003E\n",
              "      \u003Cth\u003EE\u003C/th\u003E\n",
              "      \u003Ctd\u003E12.00\u003C/td\u003E\n",
              "      \u003Ctd\u003E200\u003C/td\u003E\n",
              "      \u003Ctd\u003E4\u003C/td\u003E\n",
              "    \u003C/tr\u003E\n",
              "    \u003Ctr\u003E\n",
              "      \u003Cth\u003EF\u003C/th\u003E\n",
              "      \u003Ctd\u003E14.49\u003C/td\u003E\n",
              "      \u003Ctd\u003E62\u003C/td\u003E\n",
              "      \u003Ctd\u003E2\u003C/td\u003E\n",
              "    \u003C/tr\u003E\n",
              "    \u003Ctr\u003E\n",
              "      \u003Cth\u003EG\u003C/th\u003E\n",
              "      \u003Ctd\u003E11.99\u003C/td\u003E\n",
              "      \u003Ctd\u003E60\u003C/td\u003E\n",
              "      \u003Ctd\u003E5\u003C/td\u003E\n",
              "    \u003C/tr\u003E\n",
              "    \u003Ctr\u003E\n",
              "      \u003Cth\u003EH\u003C/th\u003E\n",
              "      \u003Ctd\u003E85.89\u003C/td\u003E\n",
              "      \u003Ctd\u003E5\u003C/td\u003E\n",
              "      \u003Ctd\u003E1\u003C/td\u003E\n",
              "    \u003C/tr\u003E\n",
              "    \u003Ctr\u003E\n",
              "      \u003Cth\u003EI\u003C/th\u003E\n",
              "      \u003Ctd\u003E10.38\u003C/td\u003E\n",
              "      \u003Ctd\u003E50\u003C/td\u003E\n",
              "      \u003Ctd\u003E4\u003C/td\u003E\n",
              "    \u003C/tr\u003E\n",
              "  \u003C/tbody\u003E\n",
              "\u003C/table\u003E\n",
              "\u003C/div\u003E"
            ],
            "text/plain": [
              "          Cena  Liczba sprzedanych  Ocena klienta\n",
              "Produkt                                          \n",
              "A        10.38                  50              4\n",
              "B        15.50                  30              5\n",
              "C         8.29                  70              3\n",
              "D        20.99                  30              4\n",
              "E        12.00                 200              4\n",
              "F        14.49                  62              2\n",
              "G        11.99                  60              5\n",
              "H        85.89                   5              1\n",
              "I        10.38                  50              4"
            ]
          },
          "execution_count": 14,
          "metadata": {

          },
          "output_type": "execute_result"
        }
      ],
      "source": [
        "# Uzupełnianie braków w danych metodą najbliższych sąsiadów k-NN (k = 3)\n",
        "\n",
        "imputer = KNNImputer(n_neighbors=3)\n",
        "imputer.fit(df[['Liczba sprzedanych']])\n",
        "df['Liczba sprzedanych'] = imputer.transform(df[['Liczba sprzedanych']])\n",
        "\n",
        "df['Liczba sprzedanych'] = df['Liczba sprzedanych'].round().astype(int)\n",
        "\n",
        "df"
      ]
    },
    {
      "cell_type": "code",
      "execution_count": 15,
      "id": "ee2ba67c",
      "metadata": {

      },
      "outputs": [
        {
          "data": {
            "text/plain": [
              "False"
            ]
          },
          "execution_count": 15,
          "metadata": {

          },
          "output_type": "execute_result"
        }
      ],
      "source": [
        "df.isnull().values.any()"
      ]
    },
    {
      "cell_type": "markdown",
      "id": "9284ade5",
      "metadata": {

      },
      "source": [
        "## 2. Usuwanie duplikatów"
      ]
    },
    {
      "cell_type": "code",
      "execution_count": 16,
      "id": "b6528316",
      "metadata": {

      },
      "outputs": [
        {
          "data": {
            "text/plain": [
              "Produkt\n",
              "A    False\n",
              "B    False\n",
              "C    False\n",
              "D    False\n",
              "E    False\n",
              "F    False\n",
              "G    False\n",
              "H    False\n",
              "I     True\n",
              "dtype: bool"
            ]
          },
          "execution_count": 16,
          "metadata": {

          },
          "output_type": "execute_result"
        }
      ],
      "source": [
        "df.duplicated()"
      ]
    },
    {
      "cell_type": "code",
      "execution_count": 17,
      "id": "a0f45cf7",
      "metadata": {

      },
      "outputs": [
        {
          "data": {
            "text/plain": [
              "True"
            ]
          },
          "execution_count": 17,
          "metadata": {

          },
          "output_type": "execute_result"
        }
      ],
      "source": [
        "df.duplicated().any()"
      ]
    },
    {
      "cell_type": "code",
      "execution_count": 18,
      "id": "3ca175e5",
      "metadata": {

      },
      "outputs": [
        {
          "data": {
            "text/plain": [
              "1"
            ]
          },
          "execution_count": 18,
          "metadata": {

          },
          "output_type": "execute_result"
        }
      ],
      "source": [
        "df.duplicated().sum()"
      ]
    },
    {
      "cell_type": "code",
      "execution_count": 19,
      "id": "ff3cc017",
      "metadata": {

      },
      "outputs": [
        {
          "data": {
            "text/html": [
              "\u003Cdiv\u003E\n",
              "\u003Cstyle scoped\u003E\n",
              "    .dataframe tbody tr th:only-of-type {\n",
              "        vertical-align: middle;\n",
              "    }\n",
              "\n",
              "    .dataframe tbody tr th {\n",
              "        vertical-align: top;\n",
              "    }\n",
              "\n",
              "    .dataframe thead th {\n",
              "        text-align: right;\n",
              "    }\n",
              "\u003C/style\u003E\n",
              "\u003Ctable border=\"1\" class=\"dataframe\"\u003E\n",
              "  \u003Cthead\u003E\n",
              "    \u003Ctr style=\"text-align: right;\"\u003E\n",
              "      \u003Cth\u003E\u003C/th\u003E\n",
              "      \u003Cth\u003ECena\u003C/th\u003E\n",
              "      \u003Cth\u003ELiczba sprzedanych\u003C/th\u003E\n",
              "      \u003Cth\u003EOcena klienta\u003C/th\u003E\n",
              "    \u003C/tr\u003E\n",
              "    \u003Ctr\u003E\n",
              "      \u003Cth\u003EProdukt\u003C/th\u003E\n",
              "      \u003Cth\u003E\u003C/th\u003E\n",
              "      \u003Cth\u003E\u003C/th\u003E\n",
              "      \u003Cth\u003E\u003C/th\u003E\n",
              "    \u003C/tr\u003E\n",
              "  \u003C/thead\u003E\n",
              "  \u003Ctbody\u003E\n",
              "    \u003Ctr\u003E\n",
              "      \u003Cth\u003EI\u003C/th\u003E\n",
              "      \u003Ctd\u003E10.38\u003C/td\u003E\n",
              "      \u003Ctd\u003E50\u003C/td\u003E\n",
              "      \u003Ctd\u003E4\u003C/td\u003E\n",
              "    \u003C/tr\u003E\n",
              "  \u003C/tbody\u003E\n",
              "\u003C/table\u003E\n",
              "\u003C/div\u003E"
            ],
            "text/plain": [
              "          Cena  Liczba sprzedanych  Ocena klienta\n",
              "Produkt                                          \n",
              "I        10.38                  50              4"
            ]
          },
          "execution_count": 19,
          "metadata": {

          },
          "output_type": "execute_result"
        }
      ],
      "source": [
        "duplicates = df[df.duplicated()]\n",
        "\n",
        "duplicates"
      ]
    },
    {
      "cell_type": "code",
      "execution_count": 20,
      "id": "50f30318",
      "metadata": {

      },
      "outputs": [
        {
          "data": {
            "text/html": [
              "\u003Cdiv\u003E\n",
              "\u003Cstyle scoped\u003E\n",
              "    .dataframe tbody tr th:only-of-type {\n",
              "        vertical-align: middle;\n",
              "    }\n",
              "\n",
              "    .dataframe tbody tr th {\n",
              "        vertical-align: top;\n",
              "    }\n",
              "\n",
              "    .dataframe thead th {\n",
              "        text-align: right;\n",
              "    }\n",
              "\u003C/style\u003E\n",
              "\u003Ctable border=\"1\" class=\"dataframe\"\u003E\n",
              "  \u003Cthead\u003E\n",
              "    \u003Ctr style=\"text-align: right;\"\u003E\n",
              "      \u003Cth\u003E\u003C/th\u003E\n",
              "      \u003Cth\u003ECena\u003C/th\u003E\n",
              "      \u003Cth\u003ELiczba sprzedanych\u003C/th\u003E\n",
              "      \u003Cth\u003EOcena klienta\u003C/th\u003E\n",
              "    \u003C/tr\u003E\n",
              "    \u003Ctr\u003E\n",
              "      \u003Cth\u003EProdukt\u003C/th\u003E\n",
              "      \u003Cth\u003E\u003C/th\u003E\n",
              "      \u003Cth\u003E\u003C/th\u003E\n",
              "      \u003Cth\u003E\u003C/th\u003E\n",
              "    \u003C/tr\u003E\n",
              "  \u003C/thead\u003E\n",
              "  \u003Ctbody\u003E\n",
              "    \u003Ctr\u003E\n",
              "      \u003Cth\u003EA\u003C/th\u003E\n",
              "      \u003Ctd\u003E10.38\u003C/td\u003E\n",
              "      \u003Ctd\u003E50\u003C/td\u003E\n",
              "      \u003Ctd\u003E4\u003C/td\u003E\n",
              "    \u003C/tr\u003E\n",
              "    \u003Ctr\u003E\n",
              "      \u003Cth\u003EB\u003C/th\u003E\n",
              "      \u003Ctd\u003E15.50\u003C/td\u003E\n",
              "      \u003Ctd\u003E30\u003C/td\u003E\n",
              "      \u003Ctd\u003E5\u003C/td\u003E\n",
              "    \u003C/tr\u003E\n",
              "    \u003Ctr\u003E\n",
              "      \u003Cth\u003EC\u003C/th\u003E\n",
              "      \u003Ctd\u003E8.29\u003C/td\u003E\n",
              "      \u003Ctd\u003E70\u003C/td\u003E\n",
              "      \u003Ctd\u003E3\u003C/td\u003E\n",
              "    \u003C/tr\u003E\n",
              "    \u003Ctr\u003E\n",
              "      \u003Cth\u003ED\u003C/th\u003E\n",
              "      \u003Ctd\u003E20.99\u003C/td\u003E\n",
              "      \u003Ctd\u003E30\u003C/td\u003E\n",
              "      \u003Ctd\u003E4\u003C/td\u003E\n",
              "    \u003C/tr\u003E\n",
              "    \u003Ctr\u003E\n",
              "      \u003Cth\u003EE\u003C/th\u003E\n",
              "      \u003Ctd\u003E12.00\u003C/td\u003E\n",
              "      \u003Ctd\u003E200\u003C/td\u003E\n",
              "      \u003Ctd\u003E4\u003C/td\u003E\n",
              "    \u003C/tr\u003E\n",
              "    \u003Ctr\u003E\n",
              "      \u003Cth\u003EF\u003C/th\u003E\n",
              "      \u003Ctd\u003E14.49\u003C/td\u003E\n",
              "      \u003Ctd\u003E62\u003C/td\u003E\n",
              "      \u003Ctd\u003E2\u003C/td\u003E\n",
              "    \u003C/tr\u003E\n",
              "    \u003Ctr\u003E\n",
              "      \u003Cth\u003EG\u003C/th\u003E\n",
              "      \u003Ctd\u003E11.99\u003C/td\u003E\n",
              "      \u003Ctd\u003E60\u003C/td\u003E\n",
              "      \u003Ctd\u003E5\u003C/td\u003E\n",
              "    \u003C/tr\u003E\n",
              "    \u003Ctr\u003E\n",
              "      \u003Cth\u003EH\u003C/th\u003E\n",
              "      \u003Ctd\u003E85.89\u003C/td\u003E\n",
              "      \u003Ctd\u003E5\u003C/td\u003E\n",
              "      \u003Ctd\u003E1\u003C/td\u003E\n",
              "    \u003C/tr\u003E\n",
              "  \u003C/tbody\u003E\n",
              "\u003C/table\u003E\n",
              "\u003C/div\u003E"
            ],
            "text/plain": [
              "          Cena  Liczba sprzedanych  Ocena klienta\n",
              "Produkt                                          \n",
              "A        10.38                  50              4\n",
              "B        15.50                  30              5\n",
              "C         8.29                  70              3\n",
              "D        20.99                  30              4\n",
              "E        12.00                 200              4\n",
              "F        14.49                  62              2\n",
              "G        11.99                  60              5\n",
              "H        85.89                   5              1"
            ]
          },
          "execution_count": 20,
          "metadata": {

          },
          "output_type": "execute_result"
        }
      ],
      "source": [
        "df = df.drop_duplicates()\n",
        "\n",
        "df"
      ]
    },
    {
      "cell_type": "code",
      "execution_count": 21,
      "id": "d183b06c",
      "metadata": {

      },
      "outputs": [
        {
          "data": {
            "text/plain": [
              "False"
            ]
          },
          "execution_count": 21,
          "metadata": {

          },
          "output_type": "execute_result"
        }
      ],
      "source": [
        "df.duplicated().any()"
      ]
    },
    {
      "cell_type": "markdown",
      "id": "49a5e778",
      "metadata": {

      },
      "source": [
        "## 3. Identyfikacja i obsługa wartości odstających (outlierów)"
      ]
    },
    {
      "cell_type": "code",
      "execution_count": 22,
      "id": "efc9a609",
      "metadata": {

      },
      "outputs": [
        {
          "name": "stdout",
          "output_type": "stream",
          "text": [
            "\n",
            "Dla atrybutu: Cena\n",
            "Q1: 11.5875\n",
            "Q3: 16.8725\n",
            "IQR: 5.284999999999998\n",
            "Typowy przedział zmienności: [3.66; 24.8]\n",
            "Wykryte outliery:\n",
            "          Cena  Liczba sprzedanych  Ocena klienta\n",
            "Produkt                                          \n",
            "H        85.89                   5              1\n",
            "\n",
            "Dla atrybutu: Liczba sprzedanych\n",
            "Q1: 30.0\n",
            "Q3: 64.0\n",
            "IQR: 34.0\n",
            "Typowy przedział zmienności: [-21.0; 115.0]\n",
            "Wykryte outliery:\n",
            "         Cena  Liczba sprzedanych  Ocena klienta\n",
            "Produkt                                         \n",
            "E        12.0                 200              4\n",
            "\n",
            "Dla atrybutu: Ocena klienta\n",
            "Q1: 2.75\n",
            "Q3: 4.25\n",
            "IQR: 1.5\n",
            "Typowy przedział zmienności: [0.5; 6.5]\n",
            "Wykryte outliery:\n",
            "Empty DataFrame\n",
            "Columns: [Cena, Liczba sprzedanych, Ocena klienta]\n",
            "Index: []\n"
          ]
        }
      ],
      "source": [
        "# Wykrywanie outlierów metodą rozstępu międzykwartylowego (IQR)\n",
        "\n",
        "def find_outliers_iqr(df):\n",
        "    outlier_results = {}\n",
        "    \n",
        "    for column in df.select_dtypes(include=['float64', 'int32', 'int64']).columns:\n",
        "        Q1 = df[column].quantile(0.25)\n",
        "        Q3 = df[column].quantile(0.75)\n",
        "        IQR = Q3 - Q1\n",
        "        \n",
        "        lower_bound = Q1 - 1.5 * IQR\n",
        "        upper_bound = Q3 + 1.5 * IQR\n",
        "        \n",
        "        outliers = df[(df[column] \u003C lower_bound) | (df[column] \u003E upper_bound)]\n",
        "        \n",
        "        outlier_results[column] = {\n",
        "            'Q1': Q1,\n",
        "            'Q3': Q3,\n",
        "            'IQR': IQR,\n",
        "            'Lower Bound': lower_bound,\n",
        "            'Upper Bound': upper_bound,\n",
        "            'Outliers': outliers\n",
        "        }\n",
        "        \n",
        "    return outlier_results\n",
        "\n",
        "df_iqr = df\n",
        "\n",
        "outlier_results = find_outliers_iqr(df_iqr)\n",
        "\n",
        "for column, results in outlier_results.items():\n",
        "    print(f\"\\nDla atrybutu: {column}\")\n",
        "    print(f\"Q1: {results['Q1']}\")\n",
        "    print(f\"Q3: {results['Q3']}\")\n",
        "    print(f\"IQR: {results['IQR']}\")\n",
        "    print(f\"Typowy przedział zmienności: [{round(results['Lower Bound'], 2)}; {round(results['Upper Bound'], 2)}]\")\n",
        "    print(\"Wykryte outliery:\")\n",
        "    print(results['Outliers'])"
      ]
    },
    {
      "cell_type": "code",
      "execution_count": 23,
      "id": "013ed69c",
      "metadata": {

      },
      "outputs": [
        {
          "data": {
            "text/html": [
              "\u003Cdiv\u003E\n",
              "\u003Cstyle scoped\u003E\n",
              "    .dataframe tbody tr th:only-of-type {\n",
              "        vertical-align: middle;\n",
              "    }\n",
              "\n",
              "    .dataframe tbody tr th {\n",
              "        vertical-align: top;\n",
              "    }\n",
              "\n",
              "    .dataframe thead th {\n",
              "        text-align: right;\n",
              "    }\n",
              "\u003C/style\u003E\n",
              "\u003Ctable border=\"1\" class=\"dataframe\"\u003E\n",
              "  \u003Cthead\u003E\n",
              "    \u003Ctr style=\"text-align: right;\"\u003E\n",
              "      \u003Cth\u003E\u003C/th\u003E\n",
              "      \u003Cth\u003ECena\u003C/th\u003E\n",
              "      \u003Cth\u003ELiczba sprzedanych\u003C/th\u003E\n",
              "      \u003Cth\u003EOcena klienta\u003C/th\u003E\n",
              "    \u003C/tr\u003E\n",
              "    \u003Ctr\u003E\n",
              "      \u003Cth\u003EProdukt\u003C/th\u003E\n",
              "      \u003Cth\u003E\u003C/th\u003E\n",
              "      \u003Cth\u003E\u003C/th\u003E\n",
              "      \u003Cth\u003E\u003C/th\u003E\n",
              "    \u003C/tr\u003E\n",
              "  \u003C/thead\u003E\n",
              "  \u003Ctbody\u003E\n",
              "    \u003Ctr\u003E\n",
              "      \u003Cth\u003EA\u003C/th\u003E\n",
              "      \u003Ctd\u003E10.38\u003C/td\u003E\n",
              "      \u003Ctd\u003E50\u003C/td\u003E\n",
              "      \u003Ctd\u003E4\u003C/td\u003E\n",
              "    \u003C/tr\u003E\n",
              "    \u003Ctr\u003E\n",
              "      \u003Cth\u003EB\u003C/th\u003E\n",
              "      \u003Ctd\u003E15.50\u003C/td\u003E\n",
              "      \u003Ctd\u003E30\u003C/td\u003E\n",
              "      \u003Ctd\u003E5\u003C/td\u003E\n",
              "    \u003C/tr\u003E\n",
              "    \u003Ctr\u003E\n",
              "      \u003Cth\u003EC\u003C/th\u003E\n",
              "      \u003Ctd\u003E8.29\u003C/td\u003E\n",
              "      \u003Ctd\u003E70\u003C/td\u003E\n",
              "      \u003Ctd\u003E3\u003C/td\u003E\n",
              "    \u003C/tr\u003E\n",
              "    \u003Ctr\u003E\n",
              "      \u003Cth\u003ED\u003C/th\u003E\n",
              "      \u003Ctd\u003E20.99\u003C/td\u003E\n",
              "      \u003Ctd\u003E30\u003C/td\u003E\n",
              "      \u003Ctd\u003E4\u003C/td\u003E\n",
              "    \u003C/tr\u003E\n",
              "    \u003Ctr\u003E\n",
              "      \u003Cth\u003EF\u003C/th\u003E\n",
              "      \u003Ctd\u003E14.49\u003C/td\u003E\n",
              "      \u003Ctd\u003E62\u003C/td\u003E\n",
              "      \u003Ctd\u003E2\u003C/td\u003E\n",
              "    \u003C/tr\u003E\n",
              "    \u003Ctr\u003E\n",
              "      \u003Cth\u003EG\u003C/th\u003E\n",
              "      \u003Ctd\u003E11.99\u003C/td\u003E\n",
              "      \u003Ctd\u003E60\u003C/td\u003E\n",
              "      \u003Ctd\u003E5\u003C/td\u003E\n",
              "    \u003C/tr\u003E\n",
              "  \u003C/tbody\u003E\n",
              "\u003C/table\u003E\n",
              "\u003C/div\u003E"
            ],
            "text/plain": [
              "          Cena  Liczba sprzedanych  Ocena klienta\n",
              "Produkt                                          \n",
              "A        10.38                  50              4\n",
              "B        15.50                  30              5\n",
              "C         8.29                  70              3\n",
              "D        20.99                  30              4\n",
              "F        14.49                  62              2\n",
              "G        11.99                  60              5"
            ]
          },
          "execution_count": 23,
          "metadata": {

          },
          "output_type": "execute_result"
        }
      ],
      "source": [
        "# Usuwanie wykrytych outlierów:\n",
        "\n",
        "for column in outlier_results.keys():\n",
        "    Q1 = outlier_results[column]['Q1']\n",
        "    Q3 = outlier_results[column]['Q3']\n",
        "    IQR = outlier_results[column]['IQR']\n",
        "    \n",
        "    lower_bound = Q1 - 1.5 * IQR\n",
        "    upper_bound = Q3 + 1.5 * IQR\n",
        "    \n",
        "    df_iqr = df_iqr[(df_iqr[column] \u003E= lower_bound) & (df_iqr[column] \u003C= upper_bound)]\n",
        "\n",
        "df_iqr"
      ]
    },
    {
      "cell_type": "code",
      "execution_count": 24,
      "id": "77382962",
      "metadata": {

      },
      "outputs": [
        {
          "name": "stdout",
          "output_type": "stream",
          "text": [
            "Z-score dla każdej kolumny:\n",
            "             Cena  Liczba sprzedanych  Ocena klienta\n",
            "Produkt                                             \n",
            "A       -0.465311           -0.225904       0.353553\n",
            "B       -0.267786           -0.563705       1.060660\n",
            "C       -0.545941            0.111896      -0.353553\n",
            "D       -0.055988           -0.563705       0.353553\n",
            "E       -0.402813            2.307601       0.353553\n",
            "F       -0.306751           -0.023224      -1.060660\n",
            "G       -0.403199           -0.057004       1.060660\n",
            "H        2.447788           -0.985956      -1.767767\n",
            "\n",
            "Wykryte outliery:\n"
          ]
        },
        {
          "data": {
            "text/html": [
              "\u003Cdiv\u003E\n",
              "\u003Cstyle scoped\u003E\n",
              "    .dataframe tbody tr th:only-of-type {\n",
              "        vertical-align: middle;\n",
              "    }\n",
              "\n",
              "    .dataframe tbody tr th {\n",
              "        vertical-align: top;\n",
              "    }\n",
              "\n",
              "    .dataframe thead th {\n",
              "        text-align: right;\n",
              "    }\n",
              "\u003C/style\u003E\n",
              "\u003Ctable border=\"1\" class=\"dataframe\"\u003E\n",
              "  \u003Cthead\u003E\n",
              "    \u003Ctr style=\"text-align: right;\"\u003E\n",
              "      \u003Cth\u003E\u003C/th\u003E\n",
              "      \u003Cth\u003ECena\u003C/th\u003E\n",
              "      \u003Cth\u003ELiczba sprzedanych\u003C/th\u003E\n",
              "      \u003Cth\u003EOcena klienta\u003C/th\u003E\n",
              "    \u003C/tr\u003E\n",
              "    \u003Ctr\u003E\n",
              "      \u003Cth\u003EProdukt\u003C/th\u003E\n",
              "      \u003Cth\u003E\u003C/th\u003E\n",
              "      \u003Cth\u003E\u003C/th\u003E\n",
              "      \u003Cth\u003E\u003C/th\u003E\n",
              "    \u003C/tr\u003E\n",
              "  \u003C/thead\u003E\n",
              "  \u003Ctbody\u003E\n",
              "    \u003Ctr\u003E\n",
              "      \u003Cth\u003EE\u003C/th\u003E\n",
              "      \u003Ctd\u003ENaN\u003C/td\u003E\n",
              "      \u003Ctd\u003E200.0\u003C/td\u003E\n",
              "      \u003Ctd\u003ENaN\u003C/td\u003E\n",
              "    \u003C/tr\u003E\n",
              "    \u003Ctr\u003E\n",
              "      \u003Cth\u003EH\u003C/th\u003E\n",
              "      \u003Ctd\u003E85.89\u003C/td\u003E\n",
              "      \u003Ctd\u003ENaN\u003C/td\u003E\n",
              "      \u003Ctd\u003ENaN\u003C/td\u003E\n",
              "    \u003C/tr\u003E\n",
              "  \u003C/tbody\u003E\n",
              "\u003C/table\u003E\n",
              "\u003C/div\u003E"
            ],
            "text/plain": [
              "          Cena  Liczba sprzedanych  Ocena klienta\n",
              "Produkt                                          \n",
              "E          NaN               200.0            NaN\n",
              "H        85.89                 NaN            NaN"
            ]
          },
          "execution_count": 24,
          "metadata": {

          },
          "output_type": "execute_result"
        }
      ],
      "source": [
        "# Wykrywanie outlierów metodą Z-score\n",
        "\n",
        "df_zscore = df\n",
        "\n",
        "z_scores = (df_zscore - df_zscore.mean()) / df_zscore.std()\n",
        "\n",
        "threshold = 2  # Próg dla outlierów\n",
        "\n",
        "outliers = df_zscore[(z_scores \u003C -threshold) | (z_scores \u003E threshold)]\n",
        "\n",
        "print(\"Z-score dla każdej kolumny:\")\n",
        "print(z_scores)\n",
        "\n",
        "outliers_display = outliers.dropna(how='all')  # Pokaż tylko te wiersze, które mają co najmniej jedną wartość\n",
        "\n",
        "print(\"\\nWykryte outliery:\")\n",
        "outliers_display"
      ]
    },
    {
      "cell_type": "code",
      "execution_count": 25,
      "id": "25b0592c",
      "metadata": {

      },
      "outputs": [
        {
          "data": {
            "text/html": [
              "\u003Cdiv\u003E\n",
              "\u003Cstyle scoped\u003E\n",
              "    .dataframe tbody tr th:only-of-type {\n",
              "        vertical-align: middle;\n",
              "    }\n",
              "\n",
              "    .dataframe tbody tr th {\n",
              "        vertical-align: top;\n",
              "    }\n",
              "\n",
              "    .dataframe thead th {\n",
              "        text-align: right;\n",
              "    }\n",
              "\u003C/style\u003E\n",
              "\u003Ctable border=\"1\" class=\"dataframe\"\u003E\n",
              "  \u003Cthead\u003E\n",
              "    \u003Ctr style=\"text-align: right;\"\u003E\n",
              "      \u003Cth\u003E\u003C/th\u003E\n",
              "      \u003Cth\u003ECena\u003C/th\u003E\n",
              "      \u003Cth\u003ELiczba sprzedanych\u003C/th\u003E\n",
              "      \u003Cth\u003EOcena klienta\u003C/th\u003E\n",
              "    \u003C/tr\u003E\n",
              "    \u003Ctr\u003E\n",
              "      \u003Cth\u003EProdukt\u003C/th\u003E\n",
              "      \u003Cth\u003E\u003C/th\u003E\n",
              "      \u003Cth\u003E\u003C/th\u003E\n",
              "      \u003Cth\u003E\u003C/th\u003E\n",
              "    \u003C/tr\u003E\n",
              "  \u003C/thead\u003E\n",
              "  \u003Ctbody\u003E\n",
              "    \u003Ctr\u003E\n",
              "      \u003Cth\u003EA\u003C/th\u003E\n",
              "      \u003Ctd\u003E10.38\u003C/td\u003E\n",
              "      \u003Ctd\u003E50\u003C/td\u003E\n",
              "      \u003Ctd\u003E4\u003C/td\u003E\n",
              "    \u003C/tr\u003E\n",
              "    \u003Ctr\u003E\n",
              "      \u003Cth\u003EB\u003C/th\u003E\n",
              "      \u003Ctd\u003E15.50\u003C/td\u003E\n",
              "      \u003Ctd\u003E30\u003C/td\u003E\n",
              "      \u003Ctd\u003E5\u003C/td\u003E\n",
              "    \u003C/tr\u003E\n",
              "    \u003Ctr\u003E\n",
              "      \u003Cth\u003EC\u003C/th\u003E\n",
              "      \u003Ctd\u003E8.29\u003C/td\u003E\n",
              "      \u003Ctd\u003E70\u003C/td\u003E\n",
              "      \u003Ctd\u003E3\u003C/td\u003E\n",
              "    \u003C/tr\u003E\n",
              "    \u003Ctr\u003E\n",
              "      \u003Cth\u003ED\u003C/th\u003E\n",
              "      \u003Ctd\u003E20.99\u003C/td\u003E\n",
              "      \u003Ctd\u003E30\u003C/td\u003E\n",
              "      \u003Ctd\u003E4\u003C/td\u003E\n",
              "    \u003C/tr\u003E\n",
              "    \u003Ctr\u003E\n",
              "      \u003Cth\u003EF\u003C/th\u003E\n",
              "      \u003Ctd\u003E14.49\u003C/td\u003E\n",
              "      \u003Ctd\u003E62\u003C/td\u003E\n",
              "      \u003Ctd\u003E2\u003C/td\u003E\n",
              "    \u003C/tr\u003E\n",
              "    \u003Ctr\u003E\n",
              "      \u003Cth\u003EG\u003C/th\u003E\n",
              "      \u003Ctd\u003E11.99\u003C/td\u003E\n",
              "      \u003Ctd\u003E60\u003C/td\u003E\n",
              "      \u003Ctd\u003E5\u003C/td\u003E\n",
              "    \u003C/tr\u003E\n",
              "  \u003C/tbody\u003E\n",
              "\u003C/table\u003E\n",
              "\u003C/div\u003E"
            ],
            "text/plain": [
              "          Cena  Liczba sprzedanych  Ocena klienta\n",
              "Produkt                                          \n",
              "A        10.38                  50              4\n",
              "B        15.50                  30              5\n",
              "C         8.29                  70              3\n",
              "D        20.99                  30              4\n",
              "F        14.49                  62              2\n",
              "G        11.99                  60              5"
            ]
          },
          "execution_count": 25,
          "metadata": {

          },
          "output_type": "execute_result"
        }
      ],
      "source": [
        "# Usuwanie wykrytych outlierów:\n",
        "\n",
        "mask = (z_scores \u003E= -threshold) & (z_scores \u003C= threshold)  \n",
        "\n",
        "df_zscore = df_zscore[mask.all(axis=1)]\n",
        "\n",
        "df_zscore"
      ]
    },
    {
      "cell_type": "code",
      "execution_count": 26,
      "id": "ea1adc12",
      "metadata": {

      },
      "outputs": [
        {
          "data": {
            "text/html": [
              "\u003Cdiv\u003E\n",
              "\u003Cstyle scoped\u003E\n",
              "    .dataframe tbody tr th:only-of-type {\n",
              "        vertical-align: middle;\n",
              "    }\n",
              "\n",
              "    .dataframe tbody tr th {\n",
              "        vertical-align: top;\n",
              "    }\n",
              "\n",
              "    .dataframe thead th {\n",
              "        text-align: right;\n",
              "    }\n",
              "\u003C/style\u003E\n",
              "\u003Ctable border=\"1\" class=\"dataframe\"\u003E\n",
              "  \u003Cthead\u003E\n",
              "    \u003Ctr style=\"text-align: right;\"\u003E\n",
              "      \u003Cth\u003E\u003C/th\u003E\n",
              "      \u003Cth\u003ECena\u003C/th\u003E\n",
              "      \u003Cth\u003ELiczba sprzedanych\u003C/th\u003E\n",
              "      \u003Cth\u003EOcena klienta\u003C/th\u003E\n",
              "    \u003C/tr\u003E\n",
              "    \u003Ctr\u003E\n",
              "      \u003Cth\u003EProdukt\u003C/th\u003E\n",
              "      \u003Cth\u003E\u003C/th\u003E\n",
              "      \u003Cth\u003E\u003C/th\u003E\n",
              "      \u003Cth\u003E\u003C/th\u003E\n",
              "    \u003C/tr\u003E\n",
              "  \u003C/thead\u003E\n",
              "  \u003Ctbody\u003E\n",
              "    \u003Ctr\u003E\n",
              "      \u003Cth\u003EA\u003C/th\u003E\n",
              "      \u003Ctd\u003E10.38\u003C/td\u003E\n",
              "      \u003Ctd\u003E50\u003C/td\u003E\n",
              "      \u003Ctd\u003E4\u003C/td\u003E\n",
              "    \u003C/tr\u003E\n",
              "    \u003Ctr\u003E\n",
              "      \u003Cth\u003EB\u003C/th\u003E\n",
              "      \u003Ctd\u003E15.50\u003C/td\u003E\n",
              "      \u003Ctd\u003E30\u003C/td\u003E\n",
              "      \u003Ctd\u003E5\u003C/td\u003E\n",
              "    \u003C/tr\u003E\n",
              "    \u003Ctr\u003E\n",
              "      \u003Cth\u003EC\u003C/th\u003E\n",
              "      \u003Ctd\u003E8.29\u003C/td\u003E\n",
              "      \u003Ctd\u003E70\u003C/td\u003E\n",
              "      \u003Ctd\u003E3\u003C/td\u003E\n",
              "    \u003C/tr\u003E\n",
              "    \u003Ctr\u003E\n",
              "      \u003Cth\u003ED\u003C/th\u003E\n",
              "      \u003Ctd\u003E20.99\u003C/td\u003E\n",
              "      \u003Ctd\u003E30\u003C/td\u003E\n",
              "      \u003Ctd\u003E4\u003C/td\u003E\n",
              "    \u003C/tr\u003E\n",
              "    \u003Ctr\u003E\n",
              "      \u003Cth\u003EF\u003C/th\u003E\n",
              "      \u003Ctd\u003E14.49\u003C/td\u003E\n",
              "      \u003Ctd\u003E62\u003C/td\u003E\n",
              "      \u003Ctd\u003E2\u003C/td\u003E\n",
              "    \u003C/tr\u003E\n",
              "    \u003Ctr\u003E\n",
              "      \u003Cth\u003EG\u003C/th\u003E\n",
              "      \u003Ctd\u003E11.99\u003C/td\u003E\n",
              "      \u003Ctd\u003E60\u003C/td\u003E\n",
              "      \u003Ctd\u003E5\u003C/td\u003E\n",
              "    \u003C/tr\u003E\n",
              "  \u003C/tbody\u003E\n",
              "\u003C/table\u003E\n",
              "\u003C/div\u003E"
            ],
            "text/plain": [
              "          Cena  Liczba sprzedanych  Ocena klienta\n",
              "Produkt                                          \n",
              "A        10.38                  50              4\n",
              "B        15.50                  30              5\n",
              "C         8.29                  70              3\n",
              "D        20.99                  30              4\n",
              "F        14.49                  62              2\n",
              "G        11.99                  60              5"
            ]
          },
          "execution_count": 26,
          "metadata": {

          },
          "output_type": "execute_result"
        }
      ],
      "source": [
        "df = df_zscore\n",
        "\n",
        "df"
      ]
    },
    {
      "cell_type": "markdown",
      "id": "d12b068f",
      "metadata": {

      },
      "source": [
        "## 4. Skalowanie danych: normalizacja i standaryzacja"
      ]
    },
    {
      "cell_type": "code",
      "execution_count": 27,
      "id": "9ee377ce",
      "metadata": {

      },
      "outputs": [
        {
          "data": {
            "text/html": [
              "\u003Cdiv\u003E\n",
              "\u003Cstyle scoped\u003E\n",
              "    .dataframe tbody tr th:only-of-type {\n",
              "        vertical-align: middle;\n",
              "    }\n",
              "\n",
              "    .dataframe tbody tr th {\n",
              "        vertical-align: top;\n",
              "    }\n",
              "\n",
              "    .dataframe thead th {\n",
              "        text-align: right;\n",
              "    }\n",
              "\u003C/style\u003E\n",
              "\u003Ctable border=\"1\" class=\"dataframe\"\u003E\n",
              "  \u003Cthead\u003E\n",
              "    \u003Ctr style=\"text-align: right;\"\u003E\n",
              "      \u003Cth\u003E\u003C/th\u003E\n",
              "      \u003Cth\u003ECena\u003C/th\u003E\n",
              "      \u003Cth\u003ELiczba sprzedanych\u003C/th\u003E\n",
              "      \u003Cth\u003EOcena klienta\u003C/th\u003E\n",
              "    \u003C/tr\u003E\n",
              "  \u003C/thead\u003E\n",
              "  \u003Ctbody\u003E\n",
              "    \u003Ctr\u003E\n",
              "      \u003Cth\u003EA\u003C/th\u003E\n",
              "      \u003Ctd\u003E0.164567\u003C/td\u003E\n",
              "      \u003Ctd\u003E0.50\u003C/td\u003E\n",
              "      \u003Ctd\u003E0.666667\u003C/td\u003E\n",
              "    \u003C/tr\u003E\n",
              "    \u003Ctr\u003E\n",
              "      \u003Cth\u003EB\u003C/th\u003E\n",
              "      \u003Ctd\u003E0.567717\u003C/td\u003E\n",
              "      \u003Ctd\u003E0.00\u003C/td\u003E\n",
              "      \u003Ctd\u003E1.000000\u003C/td\u003E\n",
              "    \u003C/tr\u003E\n",
              "    \u003Ctr\u003E\n",
              "      \u003Cth\u003EC\u003C/th\u003E\n",
              "      \u003Ctd\u003E0.000000\u003C/td\u003E\n",
              "      \u003Ctd\u003E1.00\u003C/td\u003E\n",
              "      \u003Ctd\u003E0.333333\u003C/td\u003E\n",
              "    \u003C/tr\u003E\n",
              "    \u003Ctr\u003E\n",
              "      \u003Cth\u003ED\u003C/th\u003E\n",
              "      \u003Ctd\u003E1.000000\u003C/td\u003E\n",
              "      \u003Ctd\u003E0.00\u003C/td\u003E\n",
              "      \u003Ctd\u003E0.666667\u003C/td\u003E\n",
              "    \u003C/tr\u003E\n",
              "    \u003Ctr\u003E\n",
              "      \u003Cth\u003EF\u003C/th\u003E\n",
              "      \u003Ctd\u003E0.488189\u003C/td\u003E\n",
              "      \u003Ctd\u003E0.80\u003C/td\u003E\n",
              "      \u003Ctd\u003E0.000000\u003C/td\u003E\n",
              "    \u003C/tr\u003E\n",
              "    \u003Ctr\u003E\n",
              "      \u003Cth\u003EG\u003C/th\u003E\n",
              "      \u003Ctd\u003E0.291339\u003C/td\u003E\n",
              "      \u003Ctd\u003E0.75\u003C/td\u003E\n",
              "      \u003Ctd\u003E1.000000\u003C/td\u003E\n",
              "    \u003C/tr\u003E\n",
              "  \u003C/tbody\u003E\n",
              "\u003C/table\u003E\n",
              "\u003C/div\u003E"
            ],
            "text/plain": [
              "       Cena  Liczba sprzedanych  Ocena klienta\n",
              "A  0.164567                0.50       0.666667\n",
              "B  0.567717                0.00       1.000000\n",
              "C  0.000000                1.00       0.333333\n",
              "D  1.000000                0.00       0.666667\n",
              "F  0.488189                0.80       0.000000\n",
              "G  0.291339                0.75       1.000000"
            ]
          },
          "execution_count": 27,
          "metadata": {

          },
          "output_type": "execute_result"
        }
      ],
      "source": [
        "# Normalizacja danych metodą min-max\n",
        "\n",
        "index = ['A', 'B', 'C', 'D', 'F', 'G']\n",
        "\n",
        "scaler = MinMaxScaler()\n",
        "\n",
        "df_normalized = pd.DataFrame(scaler.fit_transform(df), columns=df.columns, index=index)\n",
        "\n",
        "df_normalized"
      ]
    },
    {
      "cell_type": "code",
      "execution_count": 28,
      "id": "dbcb77f0",
      "metadata": {

      },
      "outputs": [
        {
          "data": {
            "text/html": [
              "\u003Cdiv\u003E\n",
              "\u003Cstyle scoped\u003E\n",
              "    .dataframe tbody tr th:only-of-type {\n",
              "        vertical-align: middle;\n",
              "    }\n",
              "\n",
              "    .dataframe tbody tr th {\n",
              "        vertical-align: top;\n",
              "    }\n",
              "\n",
              "    .dataframe thead th {\n",
              "        text-align: right;\n",
              "    }\n",
              "\u003C/style\u003E\n",
              "\u003Ctable border=\"1\" class=\"dataframe\"\u003E\n",
              "  \u003Cthead\u003E\n",
              "    \u003Ctr style=\"text-align: right;\"\u003E\n",
              "      \u003Cth\u003E\u003C/th\u003E\n",
              "      \u003Cth\u003ECena\u003C/th\u003E\n",
              "      \u003Cth\u003ELiczba sprzedanych\u003C/th\u003E\n",
              "      \u003Cth\u003EOcena klienta\u003C/th\u003E\n",
              "    \u003C/tr\u003E\n",
              "  \u003C/thead\u003E\n",
              "  \u003Ctbody\u003E\n",
              "    \u003Ctr\u003E\n",
              "      \u003Cth\u003EA\u003C/th\u003E\n",
              "      \u003Ctd\u003E-0.789696\u003C/td\u003E\n",
              "      \u003Ctd\u003E-0.021492\u003C/td\u003E\n",
              "      \u003Ctd\u003E0.156174\u003C/td\u003E\n",
              "    \u003C/tr\u003E\n",
              "    \u003Ctr\u003E\n",
              "      \u003Cth\u003EB\u003C/th\u003E\n",
              "      \u003Ctd\u003E0.463375\u003C/td\u003E\n",
              "      \u003Ctd\u003E-1.310995\u003C/td\u003E\n",
              "      \u003Ctd\u003E1.093216\u003C/td\u003E\n",
              "    \u003C/tr\u003E\n",
              "    \u003Ctr\u003E\n",
              "      \u003Cth\u003EC\u003C/th\u003E\n",
              "      \u003Ctd\u003E-1.301203\u003C/td\u003E\n",
              "      \u003Ctd\u003E1.268011\u003C/td\u003E\n",
              "      \u003Ctd\u003E-0.780869\u003C/td\u003E\n",
              "    \u003C/tr\u003E\n",
              "    \u003Ctr\u003E\n",
              "      \u003Cth\u003ED\u003C/th\u003E\n",
              "      \u003Ctd\u003E1.807000\u003C/td\u003E\n",
              "      \u003Ctd\u003E-1.310995\u003C/td\u003E\n",
              "      \u003Ctd\u003E0.156174\u003C/td\u003E\n",
              "    \u003C/tr\u003E\n",
              "    \u003Ctr\u003E\n",
              "      \u003Cth\u003EF\u003C/th\u003E\n",
              "      \u003Ctd\u003E0.216187\u003C/td\u003E\n",
              "      \u003Ctd\u003E0.752210\u003C/td\u003E\n",
              "      \u003Ctd\u003E-1.717911\u003C/td\u003E\n",
              "    \u003C/tr\u003E\n",
              "    \u003Ctr\u003E\n",
              "      \u003Cth\u003EG\u003C/th\u003E\n",
              "      \u003Ctd\u003E-0.395664\u003C/td\u003E\n",
              "      \u003Ctd\u003E0.623260\u003C/td\u003E\n",
              "      \u003Ctd\u003E1.093216\u003C/td\u003E\n",
              "    \u003C/tr\u003E\n",
              "  \u003C/tbody\u003E\n",
              "\u003C/table\u003E\n",
              "\u003C/div\u003E"
            ],
            "text/plain": [
              "       Cena  Liczba sprzedanych  Ocena klienta\n",
              "A -0.789696           -0.021492       0.156174\n",
              "B  0.463375           -1.310995       1.093216\n",
              "C -1.301203            1.268011      -0.780869\n",
              "D  1.807000           -1.310995       0.156174\n",
              "F  0.216187            0.752210      -1.717911\n",
              "G -0.395664            0.623260       1.093216"
            ]
          },
          "execution_count": 28,
          "metadata": {

          },
          "output_type": "execute_result"
        }
      ],
      "source": [
        "# Standaryzacja danych Z-score\n",
        "\n",
        "scaler = StandardScaler()\n",
        "\n",
        "df_standardized = pd.DataFrame(scaler.fit_transform(df), columns=df.columns, index=index)\n",
        "\n",
        "df_standardized"
      ]
    },
    {
      "cell_type": "code",
      "execution_count": null,
      "id": "1c0fa437",
      "metadata": {

      },
      "outputs": [],
      "source": []
    }
  ],
  "metadata": {
    "kernelspec": {
      "display_name": "Python 3 (ipykernel)",
      "language": "python",
      "name": "python3"
    },
    "language_info": {
      "codemirror_mode": {
        "name": "ipython",
        "version": 3
      },
      "file_extension": ".py",
      "mimetype": "text/x-python",
      "name": "python",
      "nbconvert_exporter": "python",
      "pygments_lexer": "ipython3",
      "version": "3.9.7"
    }
  },
  "nbformat": 4,
  "nbformat_minor": 5
}