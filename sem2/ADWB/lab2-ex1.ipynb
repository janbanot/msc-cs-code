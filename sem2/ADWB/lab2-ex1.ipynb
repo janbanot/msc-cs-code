{
 "cells": [
  {
   "cell_type": "code",
   "execution_count": 39,
   "id": "74f8ceb3",
   "metadata": {},
   "outputs": [],
   "source": [
    "import pandas as pd\n",
    "from sklearn.preprocessing import KBinsDiscretizer, LabelEncoder\n",
    "\n",
    "file_path = '/Users/janbanot/Dev/studia/msc-cs-code/sem2/ADWB/data/penguins.csv'\n",
    "penguins_df = pd.read_csv(file_path)"
   ]
  },
  {
   "cell_type": "code",
   "execution_count": 40,
   "id": "6a8eea82",
   "metadata": {},
   "outputs": [
    {
     "data": {
      "text/html": [
       "<div>\n",
       "<style scoped>\n",
       "    .dataframe tbody tr th:only-of-type {\n",
       "        vertical-align: middle;\n",
       "    }\n",
       "\n",
       "    .dataframe tbody tr th {\n",
       "        vertical-align: top;\n",
       "    }\n",
       "\n",
       "    .dataframe thead th {\n",
       "        text-align: right;\n",
       "    }\n",
       "</style>\n",
       "<table border=\"1\" class=\"dataframe\">\n",
       "  <thead>\n",
       "    <tr style=\"text-align: right;\">\n",
       "      <th></th>\n",
       "      <th>Unnamed: 0</th>\n",
       "      <th>species</th>\n",
       "      <th>island</th>\n",
       "      <th>bill_length_mm</th>\n",
       "      <th>bill_depth_mm</th>\n",
       "      <th>flipper_length_mm</th>\n",
       "      <th>body_mass_g</th>\n",
       "      <th>sex</th>\n",
       "      <th>year</th>\n",
       "    </tr>\n",
       "  </thead>\n",
       "  <tbody>\n",
       "    <tr>\n",
       "      <th>0</th>\n",
       "      <td>1</td>\n",
       "      <td>Adelie</td>\n",
       "      <td>Torgersen</td>\n",
       "      <td>39.1</td>\n",
       "      <td>18.7</td>\n",
       "      <td>181.0</td>\n",
       "      <td>3750.0</td>\n",
       "      <td>male</td>\n",
       "      <td>2007</td>\n",
       "    </tr>\n",
       "    <tr>\n",
       "      <th>1</th>\n",
       "      <td>2</td>\n",
       "      <td>Adelie</td>\n",
       "      <td>Torgersen</td>\n",
       "      <td>39.5</td>\n",
       "      <td>17.4</td>\n",
       "      <td>186.0</td>\n",
       "      <td>3800.0</td>\n",
       "      <td>female</td>\n",
       "      <td>2007</td>\n",
       "    </tr>\n",
       "    <tr>\n",
       "      <th>2</th>\n",
       "      <td>3</td>\n",
       "      <td>Adelie</td>\n",
       "      <td>Torgersen</td>\n",
       "      <td>40.3</td>\n",
       "      <td>18.0</td>\n",
       "      <td>195.0</td>\n",
       "      <td>3250.0</td>\n",
       "      <td>female</td>\n",
       "      <td>2007</td>\n",
       "    </tr>\n",
       "    <tr>\n",
       "      <th>3</th>\n",
       "      <td>5</td>\n",
       "      <td>Adelie</td>\n",
       "      <td>Torgersen</td>\n",
       "      <td>36.7</td>\n",
       "      <td>19.3</td>\n",
       "      <td>193.0</td>\n",
       "      <td>3450.0</td>\n",
       "      <td>female</td>\n",
       "      <td>2007</td>\n",
       "    </tr>\n",
       "    <tr>\n",
       "      <th>4</th>\n",
       "      <td>6</td>\n",
       "      <td>Adelie</td>\n",
       "      <td>Torgersen</td>\n",
       "      <td>39.3</td>\n",
       "      <td>20.6</td>\n",
       "      <td>190.0</td>\n",
       "      <td>3650.0</td>\n",
       "      <td>male</td>\n",
       "      <td>2007</td>\n",
       "    </tr>\n",
       "  </tbody>\n",
       "</table>\n",
       "</div>"
      ],
      "text/plain": [
       "   Unnamed: 0 species     island  bill_length_mm  bill_depth_mm  \\\n",
       "0           1  Adelie  Torgersen            39.1           18.7   \n",
       "1           2  Adelie  Torgersen            39.5           17.4   \n",
       "2           3  Adelie  Torgersen            40.3           18.0   \n",
       "3           5  Adelie  Torgersen            36.7           19.3   \n",
       "4           6  Adelie  Torgersen            39.3           20.6   \n",
       "\n",
       "   flipper_length_mm  body_mass_g     sex  year  \n",
       "0              181.0       3750.0    male  2007  \n",
       "1              186.0       3800.0  female  2007  \n",
       "2              195.0       3250.0  female  2007  \n",
       "3              193.0       3450.0  female  2007  \n",
       "4              190.0       3650.0    male  2007  "
      ]
     },
     "execution_count": 40,
     "metadata": {},
     "output_type": "execute_result"
    }
   ],
   "source": [
    "penguins_df.head()"
   ]
  },
  {
   "cell_type": "code",
   "execution_count": 41,
   "id": "6bc83160",
   "metadata": {},
   "outputs": [],
   "source": [
    "penguins_df_disc = penguins_df.copy()\n",
    "\n",
    "column_name = 'body_mass_g'\n",
    "\n",
    "penguins_df_disc['body_mass_category'] = pd.cut(\n",
    "    penguins_df[column_name],\n",
    "    bins=3,\n",
    "    labels=['Low', 'Medium', 'High']\n",
    ")\n",
    "\n",
    "# penguins_df_disc"
   ]
  },
  {
   "cell_type": "code",
   "execution_count": 42,
   "id": "f0c069fc",
   "metadata": {},
   "outputs": [],
   "source": [
    "penguins_df_disc['flipper_length_category'] = pd.qcut(\n",
    "    penguins_df_disc['flipper_length_mm'],\n",
    "    q=3,\n",
    "    labels=['Short', 'Medium', 'Long']\n",
    ")\n",
    "\n",
    "# penguins_df_disc"
   ]
  },
  {
   "cell_type": "code",
   "execution_count": 43,
   "id": "0ad0d186",
   "metadata": {},
   "outputs": [
    {
     "name": "stderr",
     "output_type": "stream",
     "text": [
      "/Users/janbanot/.pyenv/versions/3.11.7/envs/jupyter/lib/python3.11/site-packages/sklearn/preprocessing/_discretization.py:248: FutureWarning: In version 1.5 onwards, subsample=200_000 will be used by default. Set subsample explicitly to silence this warning in the mean time. Set subsample=None to disable subsampling explicitly.\n",
      "  warnings.warn(\n"
     ]
    }
   ],
   "source": [
    "kbd = KBinsDiscretizer(n_bins=3, encode='ordinal', strategy='uniform')\n",
    "\n",
    "penguins_df_disc['bill_length_category'] = kbd.fit_transform(\n",
    "    penguins_df_disc[['bill_length_mm']]\n",
    ").astype(int)\n",
    "\n",
    "# penguins_df_disc"
   ]
  },
  {
   "cell_type": "code",
   "execution_count": 44,
   "id": "de9909ba",
   "metadata": {},
   "outputs": [],
   "source": [
    "penguins_df_disc = pd.get_dummies(penguins_df_disc, columns=['island'], prefix='island')\n",
    "\n",
    "label_encoder = LabelEncoder()\n",
    "penguins_df_disc['sex_encoded'] = label_encoder.fit_transform(penguins_df_disc['sex'])\n",
    "\n",
    "# penguins_df_disc"
   ]
  },
  {
   "cell_type": "code",
   "execution_count": 45,
   "id": "6db16584",
   "metadata": {},
   "outputs": [],
   "source": [
    "penguins_df_disc['bill_ratio'] = penguins_df_disc['bill_length_mm'] / penguins_df_disc['bill_depth_mm']\n",
    "\n",
    "# penguins_df_disc"
   ]
  },
  {
   "cell_type": "code",
   "execution_count": 46,
   "id": "f9a626c2",
   "metadata": {},
   "outputs": [
    {
     "name": "stdout",
     "output_type": "stream",
     "text": [
      "                   bill_length_mm  bill_depth_mm  flipper_length_mm  \\\n",
      "bill_length_mm           1.000000      -0.228626           0.653096   \n",
      "bill_depth_mm           -0.228626       1.000000          -0.577792   \n",
      "flipper_length_mm        0.653096      -0.577792           1.000000   \n",
      "body_mass_g              0.589451      -0.472016           0.872979   \n",
      "year                     0.032657      -0.048182           0.151068   \n",
      "sex_encoded              0.344078       0.372673           0.255169   \n",
      "bill_ratio               0.779230      -0.781246           0.801980   \n",
      "\n",
      "                   body_mass_g      year  sex_encoded  bill_ratio  \n",
      "bill_length_mm        0.589451  0.032657     0.344078    0.779230  \n",
      "bill_depth_mm        -0.472016 -0.048182     0.372673   -0.781246  \n",
      "flipper_length_mm     0.872979  0.151068     0.255169    0.801980  \n",
      "body_mass_g           1.000000  0.021862     0.424987    0.702179  \n",
      "year                  0.021862  1.000000    -0.000467    0.036295  \n",
      "sex_encoded           0.424987 -0.000467     1.000000   -0.004569  \n",
      "bill_ratio            0.702179  0.036295    -0.004569    1.000000  \n"
     ]
    }
   ],
   "source": [
    "columns_to_correlate = [\n",
    "    'bill_length_mm',\n",
    "    'bill_depth_mm',\n",
    "    'flipper_length_mm',\n",
    "    'body_mass_g',\n",
    "    'year',\n",
    "    'sex_encoded',\n",
    "    'bill_ratio'\n",
    "]\n",
    "\n",
    "correlation_matrix = penguins_df_disc[columns_to_correlate].corr()\n",
    "\n",
    "print(correlation_matrix)"
   ]
  }
 ],
 "metadata": {
  "kernelspec": {
   "display_name": "jupyter",
   "language": "python",
   "name": "python3"
  },
  "language_info": {
   "codemirror_mode": {
    "name": "ipython",
    "version": 3
   },
   "file_extension": ".py",
   "mimetype": "text/x-python",
   "name": "python",
   "nbconvert_exporter": "python",
   "pygments_lexer": "ipython3",
   "version": "3.11.7"
  }
 },
 "nbformat": 4,
 "nbformat_minor": 5
}
