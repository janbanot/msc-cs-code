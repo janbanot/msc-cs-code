{
 "cells": [
  {
   "cell_type": "markdown",
   "metadata": {
    "id": "9_bnx9Jnzx4n"
   },
   "source": [
    "# NumPy\n",
    "\n",
    "\n",
    "<a id='index-1'></a>"
   ]
  },
  {
   "cell_type": "markdown",
   "metadata": {
    "id": "CegL9C4azx4o"
   },
   "source": [
    "> „Postawmy sprawę jasno: praca naukowa nie ma nic wspólnego z konsensusem. Konsensus jest sprawą polityki. Nauka natomiast potrzebuje tylko jednego badacza, który akurat ma rację, co oznacza, że dysponuje on wynikami możliwymi do sprawdzenia w odniesieniu do świata rzeczywistego. W nauce konsensus nie ma znaczenia. Istotne są powtarzalne wyniki.” – Michael Crichton"
   ]
  },
  {
   "attachments": {
    "image.png": {
     "image/png": "[encoded data removed]"
    }
   },
   "cell_type": "markdown",
   "metadata": {
    "id": "3X6RVL3-zx4p"
   },
   "source": [
    "## Wprowadzenie\n",
    "\n",
    "[NumPy](https://en.wikipedia.org/wiki/NumPy) to podstawowa biblioteka do programowania numerycznego\n",
    "\n",
    "- Szeroko stosowana w środowisku akademickim, finansach i przemyśle.\n",
    "- Dojrzała, szybka, stabilna i podlegająca ciągłemu rozwojowi.\n",
    "\n",
    "\n",
    "Zapewnia wysokowydajny wielowymiarowy obiekt tablicowy i narzędzia do pracy z tablicami. \n",
    "Zbliżony  do MATLAB\n",
    "![image.png](attachment:image.png)"
   ]
  },
  {
   "cell_type": "markdown",
   "metadata": {
    "id": "DNgQhKz-zx4q"
   },
   "source": [
    "### Link\n",
    "\n",
    "- [Oficjalna dokumentacja NumPy](http://docs.scipy.org/doc/numpy/reference/).  \n",
    "\n",
    "\n",
    "\n",
    "<a id='numpy-array'></a>"
   ]
  },
  {
   "cell_type": "markdown",
   "metadata": {
    "id": "KATyKzyEzx4q"
   },
   "source": [
    "## NumPy Arrays\n",
    "\n",
    "\n",
    "<a id='index-2'></a>\n",
    "Zasadniczym problemem, który rozwiązuje NumPy, jest szybkie przetwarzanie tablic.\n",
    "\n",
    "Najważniejszą strukturą zdefiniowaną przez NumPy jest typ danych tablicowych, formalnie nazywany [numpy.ndarray] (http://docs.scipy.org/doc/numpy/reference/arrays.ndarray.html).\n",
    "\n",
    "Tablice NumPy zasilają dużą część naukowego ekosystemu Pythona.\n",
    "\n",
    "Najpierw zaimportujmy bibliotekę."
   ]
  },
  {
   "cell_type": "code",
   "execution_count": 1,
   "metadata": {
    "hide-output": false,
    "id": "b_68aE5Mzx4r"
   },
   "outputs": [],
   "source": [
    "import numpy as np"
   ]
  },
  {
   "cell_type": "markdown",
   "metadata": {
    "id": "6l6s959vzx4u"
   },
   "source": [
    "Aby utworzyć tablicę NumPy zawierającą tylko zera, używamy  [np.zeros](http://docs.scipy.org/doc/numpy/reference/generated/numpy.zeros.html#numpy.zeros)"
   ]
  },
  {
   "cell_type": "code",
   "execution_count": 2,
   "metadata": {
    "hide-output": false,
    "id": "v_2hRmVSzx4v"
   },
   "outputs": [
    {
     "data": {
      "text/plain": [
       "array([0., 0., 0.])"
      ]
     },
     "execution_count": 2,
     "metadata": {},
     "output_type": "execute_result"
    }
   ],
   "source": [
    "a = np.zeros(3)\n",
    "a"
   ]
  },
  {
   "cell_type": "code",
   "execution_count": 3,
   "metadata": {
    "hide-output": false,
    "id": "2BlFL1yHzx4w"
   },
   "outputs": [
    {
     "data": {
      "text/plain": [
       "numpy.ndarray"
      ]
     },
     "execution_count": 3,
     "metadata": {},
     "output_type": "execute_result"
    }
   ],
   "source": [
    "type(a)"
   ]
  },
  {
   "cell_type": "markdown",
   "metadata": {
    "id": "96Kgbq1Qzx4w"
   },
   "source": [
    "Tablice NumPy przypominają nieco natywne listy Pythona, z tą różnicą, że\n",
    "\n",
    "* Dane muszą być zgodne (wszystkie elementy tego samego typu).\n",
    "* Te typy muszą być jednym z charakterystycznych danych (dtypes) dostarczonych przez NumPy.\n",
    "* Najważniejsze z tych charakterystycznych:\n",
    "\n",
    " * float64: 64-bitowa liczba zmiennoprzecinkowa\n",
    " * int64: 64-bitowa liczba całkowita\n",
    " * bool: 8-bitowa prawda lub fałsz\n",
    "\n",
    "\n"
   ]
  },
  {
   "cell_type": "code",
   "execution_count": 4,
   "metadata": {
    "hide-output": false,
    "id": "IX1mqODmzx4x"
   },
   "outputs": [
    {
     "data": {
      "text/plain": [
       "numpy.float64"
      ]
     },
     "execution_count": 4,
     "metadata": {},
     "output_type": "execute_result"
    }
   ],
   "source": [
    "a = np.zeros(3)\n",
    "type(a[0])"
   ]
  },
  {
   "cell_type": "markdown",
   "metadata": {
    "id": "nVi8GDgOzx4x"
   },
   "source": [
    "Jeśli chcemy używać liczb całkowitych, możemy określić to w następujący sposób:"
   ]
  },
  {
   "cell_type": "code",
   "execution_count": 5,
   "metadata": {
    "hide-output": false,
    "id": "E_JdU17Izx4x"
   },
   "outputs": [
    {
     "data": {
      "text/plain": [
       "numpy.int32"
      ]
     },
     "execution_count": 5,
     "metadata": {},
     "output_type": "execute_result"
    }
   ],
   "source": [
    "a = np.zeros(3, dtype=int)\n",
    "type(a[0])"
   ]
  },
  {
   "cell_type": "markdown",
   "metadata": {
    "id": "y1dC8c2ozx4y"
   },
   "source": [
    "\n",
    "<a id='numpy-shape-dim'></a>"
   ]
  },
  {
   "cell_type": "markdown",
   "metadata": {
    "id": "K5-9isKHzx4y"
   },
   "source": [
    "### Kształt i wymiarowość\n",
    "\n",
    "\n",
    "Rozważ następujące zadanie"
   ]
  },
  {
   "cell_type": "code",
   "execution_count": 6,
   "metadata": {
    "hide-output": false,
    "id": "0WkaS4fnzx4z"
   },
   "outputs": [],
   "source": [
    "z = np.zeros(10)"
   ]
  },
  {
   "cell_type": "markdown",
   "metadata": {
    "id": "kbPdRls-zx4z"
   },
   "source": [
    "Tutaj z jest płaską tablicą bez wymiaru — ani wektora wiersza, ani kolumny.\n",
    "\n",
    "Wymiar jest zapisywany w atrybucie kształtu, który jest krotką"
   ]
  },
  {
   "cell_type": "code",
   "execution_count": 7,
   "metadata": {
    "hide-output": false,
    "id": "9Zz1jBuezx40"
   },
   "outputs": [
    {
     "data": {
      "text/plain": [
       "(10,)"
      ]
     },
     "execution_count": 7,
     "metadata": {},
     "output_type": "execute_result"
    }
   ],
   "source": [
    "z.shape"
   ]
  },
  {
   "cell_type": "markdown",
   "metadata": {
    "id": "HaVt3oWQzx40"
   },
   "source": [
    "Tutaj krotka kształtu ma tylko jeden element, który jest długością tablicy (krotki z jednym elementem kończą się przecinkiem).\n",
    "\n",
    "Aby nadać mu wymiar, możemy zmienić atrybut „shape”.\n"
   ]
  },
  {
   "cell_type": "code",
   "execution_count": 8,
   "metadata": {
    "hide-output": false,
    "id": "CP6kfKo9zx41"
   },
   "outputs": [
    {
     "data": {
      "text/plain": [
       "array([[0.],\n",
       "       [0.],\n",
       "       [0.],\n",
       "       [0.],\n",
       "       [0.],\n",
       "       [0.],\n",
       "       [0.],\n",
       "       [0.],\n",
       "       [0.],\n",
       "       [0.]])"
      ]
     },
     "execution_count": 8,
     "metadata": {},
     "output_type": "execute_result"
    }
   ],
   "source": [
    "z.shape = (10, 1)\n",
    "z"
   ]
  },
  {
   "cell_type": "code",
   "execution_count": 9,
   "metadata": {
    "hide-output": false,
    "id": "CDVmo5Nvzx41"
   },
   "outputs": [
    {
     "data": {
      "text/plain": [
       "array([[0., 0.],\n",
       "       [0., 0.]])"
      ]
     },
     "execution_count": 9,
     "metadata": {},
     "output_type": "execute_result"
    }
   ],
   "source": [
    "z = np.zeros(4)\n",
    "z.shape = (2, 2)\n",
    "z"
   ]
  },
  {
   "cell_type": "markdown",
   "metadata": {
    "id": "NNAQVX5Ezx41"
   },
   "source": [
    "W ostatnim przypadku, aby utworzyć tablicę 2 na 2, moglibyśmy również przekazać krotkę do metody `zeros()` jako `z = np.zeros((2, 2))`.\n",
    "\n",
    "\n",
    "<a id='creating-arrays'></a>"
   ]
  },
  {
   "cell_type": "markdown",
   "metadata": {
    "id": "4oxRdoL6zx42"
   },
   "source": [
    "### Tworzenie tablic\n",
    "\n",
    "\n",
    "<a id='index-4'></a>\n",
    "Jak było wcześniej, funkcja `np.zeros` tworzy tablicę zer.\n",
    "\n",
    "Można się domyślić, co tworzy `np.ones`.\n",
    "\n",
    "Powiązane jest z nim polecenie `np.empty`, które tworzy tablice w pamięci, które można później wypełnić danymi\n",
    "\n"
   ]
  },
  {
   "cell_type": "code",
   "execution_count": 10,
   "metadata": {
    "hide-output": false,
    "id": "MiJ7h1jSzx42"
   },
   "outputs": [
    {
     "data": {
      "text/plain": [
       "array([0., 0., 0.])"
      ]
     },
     "execution_count": 10,
     "metadata": {},
     "output_type": "execute_result"
    }
   ],
   "source": [
    "z = np.empty(3)\n",
    "z"
   ]
  },
  {
   "cell_type": "markdown",
   "metadata": {
    "id": "rsQFMwZyzx42"
   },
   "source": [
    "Liczby, które tu widzisz, to wartości śmieciowe.\n",
    "\n",
    "(Python przydziela 3 ciągłe 64-bitowe fragmenty pamięci, a istniejąca zawartość tych pamięci jest interpretowana jako wartości float64)\n",
    "\n",
    "Aby ustawić siatkę równomiernie rozmieszczonych liczb, użyj np.linspace"
   ]
  },
  {
   "cell_type": "code",
   "execution_count": 11,
   "metadata": {
    "hide-output": false,
    "id": "Rniow9C6zx42"
   },
   "outputs": [],
   "source": [
    "z = np.linspace(2, 4, 5)  # Od 2 do 4, z 5 elementami"
   ]
  },
  {
   "cell_type": "markdown",
   "metadata": {
    "id": "26dX5txKzx43"
   },
   "source": [
    "Aby utworzyć macierz, użyj jednego z poleceń `np.identity` lub `np.eye`"
   ]
  },
  {
   "cell_type": "code",
   "execution_count": 12,
   "metadata": {
    "hide-output": false,
    "id": "_4LtMM4jzx43"
   },
   "outputs": [
    {
     "data": {
      "text/plain": [
       "array([[1., 0.],\n",
       "       [0., 1.]])"
      ]
     },
     "execution_count": 12,
     "metadata": {},
     "output_type": "execute_result"
    }
   ],
   "source": [
    "z = np.identity(2)\n",
    "z"
   ]
  },
  {
   "cell_type": "markdown",
   "metadata": {
    "id": "KXfHeZdhzx43"
   },
   "source": [
    "Ponadto tablice NumPy można tworzyć z list Pythona, krotek itp. za pomocą `np.array`"
   ]
  },
  {
   "cell_type": "code",
   "execution_count": 13,
   "metadata": {
    "hide-output": false,
    "id": "9s05MLjbzx43"
   },
   "outputs": [
    {
     "data": {
      "text/plain": [
       "array([10, 20])"
      ]
     },
     "execution_count": 13,
     "metadata": {},
     "output_type": "execute_result"
    }
   ],
   "source": [
    "z = np.array([10, 20])                 # ndarray from Python list\n",
    "z"
   ]
  },
  {
   "cell_type": "code",
   "execution_count": 14,
   "metadata": {
    "hide-output": false,
    "id": "-060F32fzx44"
   },
   "outputs": [
    {
     "data": {
      "text/plain": [
       "numpy.ndarray"
      ]
     },
     "execution_count": 14,
     "metadata": {},
     "output_type": "execute_result"
    }
   ],
   "source": [
    "type(z)"
   ]
  },
  {
   "cell_type": "code",
   "execution_count": 15,
   "metadata": {
    "hide-output": false,
    "id": "PwCinStDzx44"
   },
   "outputs": [
    {
     "data": {
      "text/plain": [
       "array([10., 20.])"
      ]
     },
     "execution_count": 15,
     "metadata": {},
     "output_type": "execute_result"
    }
   ],
   "source": [
    "z = np.array((10, 20), dtype=float)    # Here 'float' is equivalent to 'np.float64'\n",
    "z"
   ]
  },
  {
   "cell_type": "code",
   "execution_count": 16,
   "metadata": {
    "hide-output": false,
    "id": "XCdESbJXzx44"
   },
   "outputs": [
    {
     "data": {
      "text/plain": [
       "array([[1, 2],\n",
       "       [3, 4]])"
      ]
     },
     "execution_count": 16,
     "metadata": {},
     "output_type": "execute_result"
    }
   ],
   "source": [
    "z = np.array([[1, 2], [3, 4]])         # 2D array from a list of lists\n",
    "z"
   ]
  },
  {
   "cell_type": "markdown",
   "metadata": {
    "id": "mI2-Na3kzx44"
   },
   "source": [
    "np.asarray, który wykonuje podobną funkcję, ale nie tworzy odrębnej kopii danych znajdujących się już w tablicy NumPy."
   ]
  },
  {
   "cell_type": "code",
   "execution_count": 17,
   "metadata": {
    "hide-output": false,
    "id": "XzcJs8RSzx45"
   },
   "outputs": [
    {
     "data": {
      "text/plain": [
       "True"
      ]
     },
     "execution_count": 17,
     "metadata": {},
     "output_type": "execute_result"
    }
   ],
   "source": [
    "na = np.linspace(10, 20, 2)\n",
    "na is np.asarray(na)   # Does not copy NumPy arrays"
   ]
  },
  {
   "cell_type": "code",
   "execution_count": 18,
   "metadata": {
    "hide-output": false,
    "id": "0WMNXtv0zx45"
   },
   "outputs": [
    {
     "data": {
      "text/plain": [
       "False"
      ]
     },
     "execution_count": 18,
     "metadata": {},
     "output_type": "execute_result"
    }
   ],
   "source": [
    "na is np.array(na)     # Does make a new copy --- perhaps unnecessarily"
   ]
  },
  {
   "cell_type": "markdown",
   "metadata": {
    "id": "i3I9S0d_zx45"
   },
   "source": [
    "Aby wczytać dane tablicy z pliku tekstowego zawierającego dane numeryczne, użyj `np.loadtxt`"
   ]
  },
  {
   "cell_type": "markdown",
   "metadata": {
    "id": "pU5b0XN9zx5D"
   },
   "source": [
    "### Indeksowanie tablic\n",
    "\n",
    "\n",
    "<a id='index-5'></a>\n",
    "W przypadku tablicy płaskiej indeksowanie przebiega tak samo, jak w przypadku sekwencji w Pythonie:"
   ]
  },
  {
   "cell_type": "code",
   "execution_count": 19,
   "metadata": {
    "hide-output": false,
    "id": "NbKswq4Ozx5D"
   },
   "outputs": [
    {
     "data": {
      "text/plain": [
       "array([1.  , 1.25, 1.5 , 1.75, 2.  ])"
      ]
     },
     "execution_count": 19,
     "metadata": {},
     "output_type": "execute_result"
    }
   ],
   "source": [
    "z = np.linspace(1, 2, 5)\n",
    "z"
   ]
  },
  {
   "cell_type": "code",
   "execution_count": 20,
   "metadata": {
    "hide-output": false,
    "id": "ifapQJk2zx5E"
   },
   "outputs": [
    {
     "data": {
      "text/plain": [
       "1.0"
      ]
     },
     "execution_count": 20,
     "metadata": {},
     "output_type": "execute_result"
    }
   ],
   "source": [
    "z[0]"
   ]
  },
  {
   "cell_type": "code",
   "execution_count": 21,
   "metadata": {
    "hide-output": false,
    "id": "DSBIRBpqzx5E"
   },
   "outputs": [
    {
     "data": {
      "text/plain": [
       "array([1.  , 1.25])"
      ]
     },
     "execution_count": 21,
     "metadata": {},
     "output_type": "execute_result"
    }
   ],
   "source": [
    "z[0:2]  # Two elements, starting at element 0"
   ]
  },
  {
   "cell_type": "code",
   "execution_count": 22,
   "metadata": {
    "hide-output": false,
    "id": "lzpD3yz8zx5E"
   },
   "outputs": [
    {
     "data": {
      "text/plain": [
       "2.0"
      ]
     },
     "execution_count": 22,
     "metadata": {},
     "output_type": "execute_result"
    }
   ],
   "source": [
    "z[-1]"
   ]
  },
  {
   "cell_type": "markdown",
   "metadata": {
    "id": "NdCL8-AHzx5F"
   },
   "source": [
    "W przypadku tablic 2D składnia indeksu jest następująca:"
   ]
  },
  {
   "cell_type": "code",
   "execution_count": 23,
   "metadata": {
    "hide-output": false,
    "id": "6g2wCJYEzx5F"
   },
   "outputs": [
    {
     "data": {
      "text/plain": [
       "array([[1, 2],\n",
       "       [3, 4]])"
      ]
     },
     "execution_count": 23,
     "metadata": {},
     "output_type": "execute_result"
    }
   ],
   "source": [
    "z = np.array([[1, 2], [3, 4]])\n",
    "z"
   ]
  },
  {
   "cell_type": "code",
   "execution_count": 24,
   "metadata": {
    "hide-output": false,
    "id": "diH_GWkFzx5G"
   },
   "outputs": [
    {
     "data": {
      "text/plain": [
       "1"
      ]
     },
     "execution_count": 24,
     "metadata": {},
     "output_type": "execute_result"
    }
   ],
   "source": [
    "z[0, 0]"
   ]
  },
  {
   "cell_type": "code",
   "execution_count": 25,
   "metadata": {
    "hide-output": false,
    "id": "-rcgUBxuzx5G"
   },
   "outputs": [
    {
     "data": {
      "text/plain": [
       "2"
      ]
     },
     "execution_count": 25,
     "metadata": {},
     "output_type": "execute_result"
    }
   ],
   "source": [
    "z[0, 1]"
   ]
  },
  {
   "cell_type": "markdown",
   "metadata": {
    "id": "YGQIkfmuzx5G"
   },
   "source": [
    "I tak dalej.\n",
    "\n",
    "Należy pamiętać, że indeksy nadal zaczynają się od zera, aby zachować zgodność z sekwencjami Pythona.\n",
    "\n",
    "Kolumny i wiersze można wyodrębnić w następujący sposób"
   ]
  },
  {
   "cell_type": "code",
   "execution_count": 26,
   "metadata": {
    "hide-output": false,
    "id": "4fufvvCMzx5H"
   },
   "outputs": [
    {
     "data": {
      "text/plain": [
       "array([1, 2])"
      ]
     },
     "execution_count": 26,
     "metadata": {},
     "output_type": "execute_result"
    }
   ],
   "source": [
    "z[0, :]"
   ]
  },
  {
   "cell_type": "code",
   "execution_count": 27,
   "metadata": {
    "hide-output": false,
    "id": "bMZp4PyLzx5H"
   },
   "outputs": [
    {
     "data": {
      "text/plain": [
       "array([2, 4])"
      ]
     },
     "execution_count": 27,
     "metadata": {},
     "output_type": "execute_result"
    }
   ],
   "source": [
    "z[:, 1]"
   ]
  },
  {
   "cell_type": "markdown",
   "metadata": {
    "id": "m6iHId3Ezx5H"
   },
   "source": [
    "Tablice integer NumPy można również wykorzystać do wyodrębnienia elementów"
   ]
  },
  {
   "cell_type": "code",
   "execution_count": 28,
   "metadata": {
    "hide-output": false,
    "id": "BQQQgQwhzx5I"
   },
   "outputs": [
    {
     "data": {
      "text/plain": [
       "array([2. , 2.5, 3. , 3.5, 4. ])"
      ]
     },
     "execution_count": 28,
     "metadata": {},
     "output_type": "execute_result"
    }
   ],
   "source": [
    "z = np.linspace(2, 4, 5)\n",
    "z"
   ]
  },
  {
   "cell_type": "code",
   "execution_count": 29,
   "metadata": {
    "hide-output": false,
    "id": "k0vSaZBbzx5I"
   },
   "outputs": [
    {
     "data": {
      "text/plain": [
       "array([2. , 3. , 3.5])"
      ]
     },
     "execution_count": 29,
     "metadata": {},
     "output_type": "execute_result"
    }
   ],
   "source": [
    "indices = np.array((0, 2, 3))\n",
    "z[indices]"
   ]
  },
  {
   "cell_type": "markdown",
   "metadata": {
    "id": "ExojZ83Mzx5J"
   },
   "source": [
    "Wreszcie, do wyodrębnienia elementów można użyć tablicy dtype bool"
   ]
  },
  {
   "cell_type": "code",
   "execution_count": 30,
   "metadata": {
    "hide-output": false,
    "id": "l06oTU7dzx5J"
   },
   "outputs": [
    {
     "data": {
      "text/plain": [
       "array([2. , 2.5, 3. , 3.5, 4. ])"
      ]
     },
     "execution_count": 30,
     "metadata": {},
     "output_type": "execute_result"
    }
   ],
   "source": [
    "z"
   ]
  },
  {
   "cell_type": "code",
   "execution_count": 31,
   "metadata": {
    "hide-output": false,
    "id": "eYj2n2OJzx5J"
   },
   "outputs": [
    {
     "data": {
      "text/plain": [
       "array([False,  True,  True, False, False])"
      ]
     },
     "execution_count": 31,
     "metadata": {},
     "output_type": "execute_result"
    }
   ],
   "source": [
    "d = np.array([0, 1, 1, 0, 0], dtype=bool)\n",
    "d"
   ]
  },
  {
   "cell_type": "code",
   "execution_count": 32,
   "metadata": {
    "hide-output": false,
    "id": "9aIIca6Lzx5K"
   },
   "outputs": [
    {
     "data": {
      "text/plain": [
       "array([2.5, 3. ])"
      ]
     },
     "execution_count": 32,
     "metadata": {},
     "output_type": "execute_result"
    }
   ],
   "source": [
    "z[d]"
   ]
  },
  {
   "cell_type": "markdown",
   "metadata": {
    "id": "KKyL-MDdzx5K"
   },
   "source": [
    "Poniżej zobaczymy, dlaczego jest to przydatne.\n",
    "\n",
    "Na marginesie: wszystkie elementy tablicy można ustawić jako równe jednej liczbie, korzystając z  slice notation"
   ]
  },
  {
   "cell_type": "code",
   "execution_count": 33,
   "metadata": {
    "hide-output": false,
    "id": "Jc3n81uWzx5K"
   },
   "outputs": [
    {
     "data": {
      "text/plain": [
       "array([2. , 3. , 3.5])"
      ]
     },
     "execution_count": 33,
     "metadata": {},
     "output_type": "execute_result"
    }
   ],
   "source": [
    "z = np.empty(3)\n",
    "z"
   ]
  },
  {
   "cell_type": "code",
   "execution_count": 34,
   "metadata": {
    "hide-output": false,
    "id": "kbxKyU56zx5K"
   },
   "outputs": [
    {
     "data": {
      "text/plain": [
       "array([42., 42., 42.])"
      ]
     },
     "execution_count": 34,
     "metadata": {},
     "output_type": "execute_result"
    }
   ],
   "source": [
    "z[:] = 42\n",
    "z"
   ]
  },
  {
   "cell_type": "markdown",
   "metadata": {
    "id": "5d-JSF5Rzx5K"
   },
   "source": [
    "### Operacje na tablicach (metody)\n",
    "\n",
    "\n",
    "<a id='index-6'></a>\n",
    "Tablice mają przydatne metody, z których wszystkie są zoptymalizowane"
   ]
  },
  {
   "cell_type": "code",
   "execution_count": 35,
   "metadata": {
    "hide-output": false,
    "id": "IyudC0d9zx5L"
   },
   "outputs": [
    {
     "data": {
      "text/plain": [
       "array([4, 3, 2, 1])"
      ]
     },
     "execution_count": 35,
     "metadata": {},
     "output_type": "execute_result"
    }
   ],
   "source": [
    "a = np.array((4, 3, 2, 1))\n",
    "a"
   ]
  },
  {
   "cell_type": "code",
   "execution_count": 36,
   "metadata": {
    "hide-output": false,
    "id": "rTxIX24ozx5L"
   },
   "outputs": [
    {
     "data": {
      "text/plain": [
       "array([1, 2, 3, 4])"
      ]
     },
     "execution_count": 36,
     "metadata": {},
     "output_type": "execute_result"
    }
   ],
   "source": [
    "a.sort()              # Sorts a in place\n",
    "a"
   ]
  },
  {
   "cell_type": "code",
   "execution_count": 37,
   "metadata": {
    "hide-output": false,
    "id": "PmTGQahXzx5L"
   },
   "outputs": [
    {
     "data": {
      "text/plain": [
       "10"
      ]
     },
     "execution_count": 37,
     "metadata": {},
     "output_type": "execute_result"
    }
   ],
   "source": [
    "a.sum()               # Sum"
   ]
  },
  {
   "cell_type": "code",
   "execution_count": 38,
   "metadata": {
    "hide-output": false,
    "id": "TOkm9v0zzx5M"
   },
   "outputs": [
    {
     "data": {
      "text/plain": [
       "2.5"
      ]
     },
     "execution_count": 38,
     "metadata": {},
     "output_type": "execute_result"
    }
   ],
   "source": [
    "a.mean()              # Mean"
   ]
  },
  {
   "cell_type": "code",
   "execution_count": 39,
   "metadata": {
    "hide-output": false,
    "id": "nJeBDiabzx5M"
   },
   "outputs": [
    {
     "data": {
      "text/plain": [
       "4"
      ]
     },
     "execution_count": 39,
     "metadata": {},
     "output_type": "execute_result"
    }
   ],
   "source": [
    "a.max()               # Max"
   ]
  },
  {
   "cell_type": "code",
   "execution_count": 40,
   "metadata": {
    "hide-output": false,
    "id": "tU5Gqmvtzx5M"
   },
   "outputs": [
    {
     "data": {
      "text/plain": [
       "3"
      ]
     },
     "execution_count": 40,
     "metadata": {},
     "output_type": "execute_result"
    }
   ],
   "source": [
    "a.argmax()            # Returns the index of the maximal element"
   ]
  },
  {
   "cell_type": "code",
   "execution_count": 41,
   "metadata": {
    "hide-output": false,
    "id": "hT5YwXSBzx5N"
   },
   "outputs": [
    {
     "data": {
      "text/plain": [
       "array([ 1,  3,  6, 10])"
      ]
     },
     "execution_count": 41,
     "metadata": {},
     "output_type": "execute_result"
    }
   ],
   "source": [
    "a.cumsum()            # Cumulative sum of the elements of a"
   ]
  },
  {
   "cell_type": "code",
   "execution_count": 42,
   "metadata": {
    "hide-output": false,
    "id": "GqksrSNwzx5N"
   },
   "outputs": [
    {
     "data": {
      "text/plain": [
       "array([ 1,  2,  6, 24])"
      ]
     },
     "execution_count": 42,
     "metadata": {},
     "output_type": "execute_result"
    }
   ],
   "source": [
    "a.cumprod()           # Cumulative product of the elements of a"
   ]
  },
  {
   "cell_type": "code",
   "execution_count": 43,
   "metadata": {
    "hide-output": false,
    "id": "xmqBG4mFzx5N"
   },
   "outputs": [
    {
     "data": {
      "text/plain": [
       "1.25"
      ]
     },
     "execution_count": 43,
     "metadata": {},
     "output_type": "execute_result"
    }
   ],
   "source": [
    "a.var()               # Variance"
   ]
  },
  {
   "cell_type": "code",
   "execution_count": 44,
   "metadata": {
    "hide-output": false,
    "id": "RvO5SofMzx5O"
   },
   "outputs": [
    {
     "data": {
      "text/plain": [
       "1.118033988749895"
      ]
     },
     "execution_count": 44,
     "metadata": {},
     "output_type": "execute_result"
    }
   ],
   "source": [
    "a.std()               # Standard deviation"
   ]
  },
  {
   "cell_type": "code",
   "execution_count": 45,
   "metadata": {
    "hide-output": false,
    "id": "y6ItfOykzx5O"
   },
   "outputs": [
    {
     "data": {
      "text/plain": [
       "array([[1, 3],\n",
       "       [2, 4]])"
      ]
     },
     "execution_count": 45,
     "metadata": {},
     "output_type": "execute_result"
    }
   ],
   "source": [
    "a.shape = (2, 2)\n",
    "a.T                   # Equivalent to a.transpose()"
   ]
  },
  {
   "cell_type": "markdown",
   "metadata": {
    "id": "z8B-s-lyzx5O"
   },
   "source": [
    "Inną metodą wartą poznania jest `searchsorted()`.\n",
    "\n",
    "Jeśli `z` jest tablicą niemalejącą, wówczas `z.searchsorted(a)` zwraca indeks pierwszego elementu `z`, czyli `>= a`"
   ]
  },
  {
   "cell_type": "code",
   "execution_count": 46,
   "metadata": {
    "hide-output": false,
    "id": "3dQO8x4pzx5P"
   },
   "outputs": [
    {
     "data": {
      "text/plain": [
       "array([2. , 2.5, 3. , 3.5, 4. ])"
      ]
     },
     "execution_count": 46,
     "metadata": {},
     "output_type": "execute_result"
    }
   ],
   "source": [
    "z = np.linspace(2, 4, 5)\n",
    "z"
   ]
  },
  {
   "cell_type": "code",
   "execution_count": 47,
   "metadata": {
    "hide-output": false,
    "id": "FU8x7qcezx5P"
   },
   "outputs": [
    {
     "data": {
      "text/plain": [
       "1"
      ]
     },
     "execution_count": 47,
     "metadata": {},
     "output_type": "execute_result"
    }
   ],
   "source": [
    "z.searchsorted(2.2)"
   ]
  },
  {
   "cell_type": "markdown",
   "metadata": {
    "id": "gbwd0LuHzx5P"
   },
   "source": [
    "Wiele z metod omówionych powyżej ma równoważne funkcje w przestrzeni nazw NumPy"
   ]
  },
  {
   "cell_type": "code",
   "execution_count": 48,
   "metadata": {
    "hide-output": false,
    "id": "hCBZi4lnzx5P"
   },
   "outputs": [],
   "source": [
    "a = np.array((4, 3, 2, 1))"
   ]
  },
  {
   "cell_type": "code",
   "execution_count": 49,
   "metadata": {
    "hide-output": false,
    "id": "EL1ku5yBzx5Q"
   },
   "outputs": [
    {
     "data": {
      "text/plain": [
       "10"
      ]
     },
     "execution_count": 49,
     "metadata": {},
     "output_type": "execute_result"
    }
   ],
   "source": [
    "np.sum(a)"
   ]
  },
  {
   "cell_type": "code",
   "execution_count": 50,
   "metadata": {
    "hide-output": false,
    "id": "__DGaMBszx5Q"
   },
   "outputs": [
    {
     "data": {
      "text/plain": [
       "2.5"
      ]
     },
     "execution_count": 50,
     "metadata": {},
     "output_type": "execute_result"
    }
   ],
   "source": [
    "np.mean(a)"
   ]
  },
  {
   "cell_type": "markdown",
   "metadata": {
    "id": "1xiVSg1Gzx5Q"
   },
   "source": [
    "## Operacje na tablicach\n",
    "\n",
    "\n",
    "<a id='index-7'></a>"
   ]
  },
  {
   "cell_type": "markdown",
   "metadata": {
    "id": "rNzsy6yGzx5R"
   },
   "source": [
    "### Operacje arytmetyczne\n",
    "\n",
    "Operatory `+`, `-`, `*`, `/` i `**`  działają *elementowo* na tablicach"
   ]
  },
  {
   "cell_type": "code",
   "execution_count": 3,
   "metadata": {
    "hide-output": false,
    "id": "R5ntmpEUzx5R"
   },
   "outputs": [
    {
     "data": {
      "text/plain": [
       "array([ 6,  8, 10, 12])"
      ]
     },
     "execution_count": 3,
     "metadata": {},
     "output_type": "execute_result"
    }
   ],
   "source": [
    "a = np.array([1, 2, 3, 4])\n",
    "b = np.array([5, 6, 7, 8])\n",
    "a + b"
   ]
  },
  {
   "cell_type": "code",
   "execution_count": 4,
   "metadata": {
    "hide-output": false,
    "id": "PMPLq4pfzx5R"
   },
   "outputs": [
    {
     "data": {
      "text/plain": [
       "array([ 5, 12, 21, 32])"
      ]
     },
     "execution_count": 4,
     "metadata": {},
     "output_type": "execute_result"
    }
   ],
   "source": [
    "a * b"
   ]
  },
  {
   "cell_type": "markdown",
   "metadata": {
    "id": "z9wJf8BVzx5R"
   },
   "source": [
    "Możemy dodać skalar do każdego elementu w następujący sposób"
   ]
  },
  {
   "cell_type": "code",
   "execution_count": 5,
   "metadata": {
    "hide-output": false,
    "id": "6o-G2OPpzx5S"
   },
   "outputs": [
    {
     "data": {
      "text/plain": [
       "array([11, 12, 13, 14])"
      ]
     },
     "execution_count": 5,
     "metadata": {},
     "output_type": "execute_result"
    }
   ],
   "source": [
    "a + 10"
   ]
  },
  {
   "cell_type": "markdown",
   "metadata": {
    "id": "9MVkBxHXzx5S"
   },
   "source": [
    "Mnożenie przez skalar jest podobne"
   ]
  },
  {
   "cell_type": "code",
   "execution_count": 6,
   "metadata": {
    "hide-output": false,
    "id": "ySBu-bndzx5S"
   },
   "outputs": [
    {
     "data": {
      "text/plain": [
       "array([10, 20, 30, 40])"
      ]
     },
     "execution_count": 6,
     "metadata": {},
     "output_type": "execute_result"
    }
   ],
   "source": [
    "a * 10"
   ]
  },
  {
   "cell_type": "markdown",
   "metadata": {
    "id": "7gXETqpIzx5S"
   },
   "source": [
    "Tablice dwuwymiarowe podlegają tym samym ogólnym zasadom"
   ]
  },
  {
   "cell_type": "code",
   "execution_count": 7,
   "metadata": {
    "hide-output": false,
    "id": "92_UeFI6zx5T"
   },
   "outputs": [
    {
     "data": {
      "text/plain": [
       "array([[2., 2.],\n",
       "       [2., 2.]])"
      ]
     },
     "execution_count": 7,
     "metadata": {},
     "output_type": "execute_result"
    }
   ],
   "source": [
    "A = np.ones((2, 2))\n",
    "B = np.ones((2, 2))\n",
    "A + B"
   ]
  },
  {
   "cell_type": "code",
   "execution_count": 8,
   "metadata": {
    "hide-output": false,
    "id": "RwwP445rzx5V"
   },
   "outputs": [
    {
     "data": {
      "text/plain": [
       "array([[11., 11.],\n",
       "       [11., 11.]])"
      ]
     },
     "execution_count": 8,
     "metadata": {},
     "output_type": "execute_result"
    }
   ],
   "source": [
    "A + 10"
   ]
  },
  {
   "cell_type": "code",
   "execution_count": 9,
   "metadata": {
    "hide-output": false,
    "id": "XnV-Qylwzx5V"
   },
   "outputs": [
    {
     "data": {
      "text/plain": [
       "array([[1., 1.],\n",
       "       [1., 1.]])"
      ]
     },
     "execution_count": 9,
     "metadata": {},
     "output_type": "execute_result"
    }
   ],
   "source": [
    "A * B"
   ]
  },
  {
   "cell_type": "markdown",
   "metadata": {
    "id": "hgju2Ttdzx5V"
   },
   "source": [
    "\n",
    "<a id='numpy-matrix-multiplication'></a>\n",
    "W szczególności „A * B” *nie* jest iloczynem macierzowym, jest to iloczyn elementarny."
   ]
  },
  {
   "cell_type": "markdown",
   "metadata": {
    "id": "h2UVmzb5zx5W"
   },
   "source": [
    "### Mnożenie macierzy\n",
    "\n",
    "\n",
    "<a id='index-8'></a>\n",
    "Dzięki naukowemu pakietowi Pythona firmy Anaconda opartemu na Pythonie 3.5 i nowszych wersjach,\n",
    "można użyć symbolu `@` do mnożenia macierzy w następujący sposób:"
   ]
  },
  {
   "cell_type": "code",
   "execution_count": 10,
   "metadata": {
    "hide-output": false,
    "id": "jid80Tohzx5W"
   },
   "outputs": [
    {
     "data": {
      "text/plain": [
       "array([[2., 2.],\n",
       "       [2., 2.]])"
      ]
     },
     "execution_count": 10,
     "metadata": {},
     "output_type": "execute_result"
    }
   ],
   "source": [
    "A = np.ones((2, 2))\n",
    "B = np.ones((2, 2))\n",
    "A @ B"
   ]
  },
  {
   "cell_type": "markdown",
   "metadata": {
    "id": "B0cwFCC4zx5W"
   },
   "source": [
    "(W przypadku starszych wersji Pythona i NumPy musisz użyć funkcji [np.dot](http://docs.scipy.org/doc/numpy/reference/generated/numpy.dot.html))\n",
    "\n",
    "Możemy również użyć `@`, aby pobrać iloczyn wewnętrzny dwóch tablic płaskich"
   ]
  },
  {
   "cell_type": "code",
   "execution_count": 11,
   "metadata": {
    "hide-output": false,
    "id": "QiLPhFNpzx5X"
   },
   "outputs": [
    {
     "data": {
      "text/plain": [
       "50"
      ]
     },
     "execution_count": 11,
     "metadata": {},
     "output_type": "execute_result"
    }
   ],
   "source": [
    "A = np.array((1, 2))\n",
    "B = np.array((10, 20))\n",
    "A @ B"
   ]
  },
  {
   "cell_type": "markdown",
   "metadata": {
    "id": "HB0gKyzUzx5X"
   },
   "source": [
    "W rzeczywistości możemy użyć `@`, gdy jeden element jest listą lub krotką Pythona"
   ]
  },
  {
   "cell_type": "code",
   "execution_count": 12,
   "metadata": {
    "hide-output": false,
    "id": "W-5x71dpzx5X"
   },
   "outputs": [
    {
     "data": {
      "text/plain": [
       "array([[1, 2],\n",
       "       [3, 4]])"
      ]
     },
     "execution_count": 12,
     "metadata": {},
     "output_type": "execute_result"
    }
   ],
   "source": [
    "A = np.array(((1, 2), (3, 4)))\n",
    "A"
   ]
  },
  {
   "cell_type": "code",
   "execution_count": 13,
   "metadata": {
    "hide-output": false,
    "id": "WTyTVC6Qzx5X"
   },
   "outputs": [
    {
     "data": {
      "text/plain": [
       "array([2, 4])"
      ]
     },
     "execution_count": 13,
     "metadata": {},
     "output_type": "execute_result"
    }
   ],
   "source": [
    "A @ (0, 1)"
   ]
  },
  {
   "cell_type": "markdown",
   "metadata": {
    "id": "CvZTToO3zx5X"
   },
   "source": [
    "Ponieważ wykonujemy mnożenie końcowe, krotka jest traktowana jako wektor kolumnowy."
   ]
  },
  {
   "cell_type": "markdown",
   "metadata": {
    "id": "mq6_4GSIzx5Y"
   },
   "source": [
    "### Zmienność i kopiowanie tablic\n",
    "\n",
    "Tablice NumPy to modyfikowalne typy danych, takie jak listy w Pythonie.\n",
    "\n",
    "Innymi słowy, ich zawartość może zostać zmieniona (zmutowana) w pamięci po inicjalizacji.\n",
    "\n",
    "Przykłady widzieliśmy już powyżej.\n",
    "\n",
    "Oto kolejny przykład:"
   ]
  },
  {
   "cell_type": "code",
   "execution_count": 14,
   "metadata": {
    "hide-output": false,
    "id": "Hddr3_6Azx5Y"
   },
   "outputs": [
    {
     "data": {
      "text/plain": [
       "array([42, 44])"
      ]
     },
     "execution_count": 14,
     "metadata": {},
     "output_type": "execute_result"
    }
   ],
   "source": [
    "a = np.array([42, 44])\n",
    "a"
   ]
  },
  {
   "cell_type": "code",
   "execution_count": 15,
   "metadata": {
    "hide-output": false,
    "id": "ISkR2LWJzx5Y"
   },
   "outputs": [
    {
     "data": {
      "text/plain": [
       "array([42,  0])"
      ]
     },
     "execution_count": 15,
     "metadata": {},
     "output_type": "execute_result"
    }
   ],
   "source": [
    "a[-1] = 0  # Change last element to 0\n",
    "a"
   ]
  },
  {
   "cell_type": "markdown",
   "metadata": {
    "id": "P2RkJmbYzx5Z"
   },
   "source": [
    "Zmienność prowadzi do następującego zachowania (które może być szokujące dla programistów MATLAB...)"
   ]
  },
  {
   "cell_type": "code",
   "execution_count": 16,
   "metadata": {
    "hide-output": false,
    "id": "ABQRzEvvzx5Z"
   },
   "outputs": [
    {
     "data": {
      "text/plain": [
       "array([-0.54070123,  0.97719755, -0.24876836])"
      ]
     },
     "execution_count": 16,
     "metadata": {},
     "output_type": "execute_result"
    }
   ],
   "source": [
    "a = np.random.randn(3)\n",
    "a"
   ]
  },
  {
   "cell_type": "code",
   "execution_count": 17,
   "metadata": {
    "hide-output": false,
    "id": "vosT7PO6zx5Z"
   },
   "outputs": [
    {
     "data": {
      "text/plain": [
       "array([ 0.        ,  0.97719755, -0.24876836])"
      ]
     },
     "execution_count": 17,
     "metadata": {},
     "output_type": "execute_result"
    }
   ],
   "source": [
    "b = a\n",
    "b[0] = 0.0\n",
    "a"
   ]
  },
  {
   "cell_type": "markdown",
   "metadata": {
    "id": "DwxPjLRmzx5Z"
   },
   "source": [
    "Stało się tak, że zmieniliśmy „a”, zmieniając „b”.\n",
    "\n",
    "Nazwa „b” jest powiązana z „a” i staje się kolejnym odniesieniem do\n",
    "array.\n",
    "\n",
    "Dlatego ma równe prawa do wprowadzania zmian w tej tablicy.\n",
    "\n",
    "Jest to w rzeczywistości najrozsądniejsze zachowanie domyślne!\n",
    "\n",
    "Oznacza to, że zamiast tworzyć kopie, przekazujemy jedynie wskaźniki do danych.\n",
    "\n",
    "Wykonywanie kopii jest drogie, zarówno pod względem szybkości, jak i pamięci."
   ]
  },
  {
   "cell_type": "markdown",
   "metadata": {
    "id": "MHzrbzU0zx5a"
   },
   "source": [
    "#### Wykonywanie kopii\n",
    "\n",
    "W razie potrzeby możliwe jest oczywiście utworzenie „b” niezależnej kopii „a”.\n",
    "\n",
    "Można to zrobić za pomocą `np.copy`"
   ]
  },
  {
   "cell_type": "code",
   "execution_count": 18,
   "metadata": {
    "hide-output": false,
    "id": "xxFtBBj0zx5a"
   },
   "outputs": [
    {
     "data": {
      "text/plain": [
       "array([1.39113452, 0.81807009, 1.86220692])"
      ]
     },
     "execution_count": 18,
     "metadata": {},
     "output_type": "execute_result"
    }
   ],
   "source": [
    "a = np.random.randn(3)\n",
    "a"
   ]
  },
  {
   "cell_type": "code",
   "execution_count": 19,
   "metadata": {
    "hide-output": false,
    "id": "9Ar1-qxazx5a"
   },
   "outputs": [
    {
     "data": {
      "text/plain": [
       "array([1.39113452, 0.81807009, 1.86220692])"
      ]
     },
     "execution_count": 19,
     "metadata": {},
     "output_type": "execute_result"
    }
   ],
   "source": [
    "b = np.copy(a)\n",
    "b"
   ]
  },
  {
   "cell_type": "markdown",
   "metadata": {
    "id": "Kl0Kpt8Zzx5a"
   },
   "source": [
    "Teraz „b” jest niezależną kopią (zwaną *głęboką kopią*)"
   ]
  },
  {
   "cell_type": "code",
   "execution_count": 20,
   "metadata": {
    "hide-output": false,
    "id": "7GZTb-sCzx5b"
   },
   "outputs": [
    {
     "data": {
      "text/plain": [
       "array([1., 1., 1.])"
      ]
     },
     "execution_count": 20,
     "metadata": {},
     "output_type": "execute_result"
    }
   ],
   "source": [
    "b[:] = 1\n",
    "b"
   ]
  },
  {
   "cell_type": "code",
   "execution_count": 21,
   "metadata": {
    "hide-output": false,
    "id": "YRpkQNbwzx5b"
   },
   "outputs": [
    {
     "data": {
      "text/plain": [
       "array([1.39113452, 0.81807009, 1.86220692])"
      ]
     },
     "execution_count": 21,
     "metadata": {},
     "output_type": "execute_result"
    }
   ],
   "source": [
    "a"
   ]
  },
  {
   "cell_type": "markdown",
   "metadata": {
    "id": "Kp92J3tQzx5b"
   },
   "source": [
    "Należy zauważyć, że zmiana na „b” nie ma wpływu na „a”."
   ]
  },
  {
   "cell_type": "markdown",
   "metadata": {
    "id": "m8C2hpr4zx5c"
   },
   "source": [
    "## Dodatkowa funkcjonalność\n",
    "\n",
    "Przyjrzyjmy się innym przydatnym rzeczom, które możemy zrobić za pomocą NumPy.an do with NumPy."
   ]
  },
  {
   "cell_type": "markdown",
   "metadata": {
    "id": "-fQKE17Zzx5c"
   },
   "source": [
    "### Funkcje wektoryzowanens\n",
    "\n",
    "\n",
    "<a id='index-9'></a>\n",
    "NumPy udostępnia wersje standardowych funkcji `log`, `exp`, `sin` itp., które działają *elementowo* na tablicach"
   ]
  },
  {
   "cell_type": "code",
   "execution_count": 22,
   "metadata": {
    "hide-output": false,
    "id": "BE0S1cDrzx5c"
   },
   "outputs": [
    {
     "data": {
      "text/plain": [
       "array([0.84147098, 0.90929743, 0.14112001])"
      ]
     },
     "execution_count": 22,
     "metadata": {},
     "output_type": "execute_result"
    }
   ],
   "source": [
    "z = np.array([1, 2, 3])\n",
    "np.sin(z)"
   ]
  },
  {
   "cell_type": "markdown",
   "metadata": {
    "id": "pITuS4ZGzx5c"
   },
   "source": [
    "Eliminuje to potrzebę wykorzystania pętli (element po elemencie), takich jak:"
   ]
  },
  {
   "cell_type": "code",
   "execution_count": 23,
   "metadata": {
    "hide-output": false,
    "id": "c8c3-EZBzx5d"
   },
   "outputs": [],
   "source": [
    "n = len(z)\n",
    "y = np.empty(n)\n",
    "for i in range(n):\n",
    "    y[i] = np.sin(z[i])"
   ]
  },
  {
   "cell_type": "markdown",
   "metadata": {
    "id": "-h4AeaDlzx5d"
   },
   "source": [
    "Ponieważ działają na tablicach elementarnie, funkcje te nazywane są *funkcjami wektorowymi*.\n",
    "\n",
    "W języku NumPy nazywane są one także *ufuncs*, co oznacza „funkcje uniwersalne”.\n",
    "\n",
    "Jak widzieliśmy powyżej, zwykłe operacje arytmetyczne (`+`, `*` itd.) również\n",
    "działają elementarnie, a połączenie ich z ufuncami daje bardzo duży zestaw szybkich funkcji elementarnych."
   ]
  },
  {
   "cell_type": "code",
   "execution_count": 24,
   "metadata": {
    "hide-output": false,
    "id": "jyr_vq7Azx5d"
   },
   "outputs": [
    {
     "data": {
      "text/plain": [
       "array([1, 2, 3])"
      ]
     },
     "execution_count": 24,
     "metadata": {},
     "output_type": "execute_result"
    }
   ],
   "source": [
    "z"
   ]
  },
  {
   "cell_type": "code",
   "execution_count": 25,
   "metadata": {
    "hide-output": false,
    "id": "qaLluz6Azx5e"
   },
   "outputs": [
    {
     "data": {
      "text/plain": [
       "array([0.24197072, 0.05399097, 0.00443185])"
      ]
     },
     "execution_count": 25,
     "metadata": {},
     "output_type": "execute_result"
    }
   ],
   "source": [
    "(1 / np.sqrt(2 * np.pi)) * np.exp(- 0.5 * z**2)"
   ]
  },
  {
   "cell_type": "markdown",
   "metadata": {
    "id": "3G7MJ3KGzx5e"
   },
   "source": [
    "Nie wszystkie funkcje zdefiniowane przez użytkownika będą działać elementarnie.\n",
    "\n",
    "Na przykład przekazanie funkcji „f” zdefiniowanej poniżej tablicy NumPy powoduje wyświetlenie „ValueError”"
   ]
  },
  {
   "cell_type": "code",
   "execution_count": 26,
   "metadata": {
    "hide-output": false,
    "id": "fmz7VHXyzx5e"
   },
   "outputs": [],
   "source": [
    "def f(x):\n",
    "    return 1 if x > 0 else 0"
   ]
  },
  {
   "cell_type": "markdown",
   "metadata": {
    "id": "pA7rfppqzx5f"
   },
   "source": [
    "Funkcja NumPy `np.where` zapewnia wektoryzowaną alternatywę:"
   ]
  },
  {
   "cell_type": "code",
   "execution_count": 27,
   "metadata": {
    "hide-output": false,
    "id": "6lRcuvwozx5f"
   },
   "outputs": [
    {
     "data": {
      "text/plain": [
       "array([-1.77623515,  0.57748537, -0.88624065, -0.32825057])"
      ]
     },
     "execution_count": 27,
     "metadata": {},
     "output_type": "execute_result"
    }
   ],
   "source": [
    "x = np.random.randn(4)\n",
    "x"
   ]
  },
  {
   "cell_type": "code",
   "execution_count": 28,
   "metadata": {
    "hide-output": false,
    "id": "P3kI9zyozx5g"
   },
   "outputs": [
    {
     "data": {
      "text/plain": [
       "array([0, 1, 0, 0])"
      ]
     },
     "execution_count": 28,
     "metadata": {},
     "output_type": "execute_result"
    }
   ],
   "source": [
    "np.where(x > 0, 1, 0)  # Insert 1 if x > 0 true, otherwise 0"
   ]
  },
  {
   "cell_type": "markdown",
   "metadata": {
    "id": "6Dn2Ievfzx5g"
   },
   "source": [
    "Możesz także użyć `np.vectorize` do wektoryzacji danej funkcji"
   ]
  },
  {
   "cell_type": "code",
   "execution_count": 29,
   "metadata": {
    "hide-output": false,
    "id": "d8T9IA2vzx5h"
   },
   "outputs": [
    {
     "data": {
      "text/plain": [
       "array([0, 1, 0, 0])"
      ]
     },
     "execution_count": 29,
     "metadata": {},
     "output_type": "execute_result"
    }
   ],
   "source": [
    "f = np.vectorize(f)\n",
    "f(x)                # Passing the same vector x as in the previous example"
   ]
  },
  {
   "cell_type": "markdown",
   "metadata": {
    "id": "NHMucWAjzx5h"
   },
   "source": [
    "Jednak to podejście nie zawsze pozwala uzyskać taką samą prędkość, jak w przypadku bardziej starannie opracowanej funkcji wektorowej."
   ]
  },
  {
   "cell_type": "markdown",
   "metadata": {
    "id": "LXKo6HrHzx5i"
   },
   "source": [
    "### Porównania\n",
    "\n",
    "\n",
    "<a id='index-10'></a>\n",
    "Z reguły porównania tablic przeprowadzane są elementarnie"
   ]
  },
  {
   "cell_type": "code",
   "execution_count": 30,
   "metadata": {
    "hide-output": false,
    "id": "FGzQH7Hxzx5i"
   },
   "outputs": [
    {
     "data": {
      "text/plain": [
       "array([ True,  True])"
      ]
     },
     "execution_count": 30,
     "metadata": {},
     "output_type": "execute_result"
    }
   ],
   "source": [
    "z = np.array([2, 3])\n",
    "y = np.array([2, 3])\n",
    "z == y"
   ]
  },
  {
   "cell_type": "code",
   "execution_count": 31,
   "metadata": {
    "hide-output": false,
    "id": "UL1A74-Rzx5i"
   },
   "outputs": [
    {
     "data": {
      "text/plain": [
       "array([False,  True])"
      ]
     },
     "execution_count": 31,
     "metadata": {},
     "output_type": "execute_result"
    }
   ],
   "source": [
    "y[0] = 5\n",
    "z == y"
   ]
  },
  {
   "cell_type": "code",
   "execution_count": 32,
   "metadata": {
    "hide-output": false,
    "id": "9OebMCk2zx5i"
   },
   "outputs": [
    {
     "data": {
      "text/plain": [
       "array([ True, False])"
      ]
     },
     "execution_count": 32,
     "metadata": {},
     "output_type": "execute_result"
    }
   ],
   "source": [
    "z != y"
   ]
  },
  {
   "cell_type": "markdown",
   "metadata": {
    "id": "4wigvYr9zx5j"
   },
   "source": [
    "Sytuacja jest podobna dla `>`, `<`, `>=` i `<=`.\n",
    "\n",
    "Możemy także dokonywać porównań ze skalarami"
   ]
  },
  {
   "cell_type": "code",
   "execution_count": 33,
   "metadata": {
    "hide-output": false,
    "id": "7pY95uprzx5j"
   },
   "outputs": [
    {
     "data": {
      "text/plain": [
       "array([ 0. ,  2.5,  5. ,  7.5, 10. ])"
      ]
     },
     "execution_count": 33,
     "metadata": {},
     "output_type": "execute_result"
    }
   ],
   "source": [
    "z = np.linspace(0, 10, 5)\n",
    "z"
   ]
  },
  {
   "cell_type": "code",
   "execution_count": 34,
   "metadata": {
    "hide-output": false,
    "id": "kcUYPvCAzx5j"
   },
   "outputs": [
    {
     "data": {
      "text/plain": [
       "array([False, False,  True,  True,  True])"
      ]
     },
     "execution_count": 34,
     "metadata": {},
     "output_type": "execute_result"
    }
   ],
   "source": [
    "z > 3"
   ]
  },
  {
   "cell_type": "markdown",
   "metadata": {
    "id": "GJ30IG5Hzx5k"
   },
   "source": [
    "Jest to szczególnie przydatne w przypadku *ekstrakcji warunkowej*"
   ]
  },
  {
   "cell_type": "code",
   "execution_count": 35,
   "metadata": {
    "hide-output": false,
    "id": "iw1qu9huzx5k"
   },
   "outputs": [
    {
     "data": {
      "text/plain": [
       "array([False, False,  True,  True,  True])"
      ]
     },
     "execution_count": 35,
     "metadata": {},
     "output_type": "execute_result"
    }
   ],
   "source": [
    "b = z > 3\n",
    "b"
   ]
  },
  {
   "cell_type": "code",
   "execution_count": 36,
   "metadata": {
    "hide-output": false,
    "id": "59Vv3aqGzx5l"
   },
   "outputs": [
    {
     "data": {
      "text/plain": [
       "array([ 5. ,  7.5, 10. ])"
      ]
     },
     "execution_count": 36,
     "metadata": {},
     "output_type": "execute_result"
    }
   ],
   "source": [
    "z[b]"
   ]
  },
  {
   "cell_type": "markdown",
   "metadata": {
    "id": "feqT-G-6zx5l"
   },
   "source": [
    "Oczywiście możemy – i często to robimy – wykonać to w jednym kroku"
   ]
  },
  {
   "cell_type": "code",
   "execution_count": 37,
   "metadata": {
    "hide-output": false,
    "id": "07p5mYFnzx5l"
   },
   "outputs": [
    {
     "data": {
      "text/plain": [
       "array([ 5. ,  7.5, 10. ])"
      ]
     },
     "execution_count": 37,
     "metadata": {},
     "output_type": "execute_result"
    }
   ],
   "source": [
    "z[z > 3]"
   ]
  },
  {
   "cell_type": "markdown",
   "metadata": {
    "id": "9f13jZvhzx5m"
   },
   "source": [
    "### Podpakiety\n",
    "\n",
    "NumPy zapewnia dodatkową funkcjonalność związaną z programowaniem naukowym\n",
    "poprzez swoje podpakiety.\n",
    "\n",
    "Widzieliśmy już, jak możemy generować zmienne losowe za pomocą np.random"
   ]
  },
  {
   "cell_type": "code",
   "execution_count": 38,
   "metadata": {
    "hide-output": false,
    "id": "PTjWjo80zx5m"
   },
   "outputs": [
    {
     "data": {
      "text/plain": [
       "4.972"
      ]
     },
     "execution_count": 38,
     "metadata": {},
     "output_type": "execute_result"
    }
   ],
   "source": [
    "z = np.random.randn(10000)  # Generate standard normals\n",
    "y = np.random.binomial(10, 0.5, size=1000)    # 1,000 draws from Bin(10, 0.5)\n",
    "y.mean()"
   ]
  },
  {
   "cell_type": "markdown",
   "metadata": {
    "id": "GtgwuPqKzx5m"
   },
   "source": [
    "Innym powszechnie używanym podpakietem jest np.linalg"
   ]
  },
  {
   "cell_type": "code",
   "execution_count": 39,
   "metadata": {
    "hide-output": false,
    "id": "7XOGZUSnzx5m"
   },
   "outputs": [
    {
     "data": {
      "text/plain": [
       "-2.0000000000000004"
      ]
     },
     "execution_count": 39,
     "metadata": {},
     "output_type": "execute_result"
    }
   ],
   "source": [
    "A = np.array([[1, 2], [3, 4]])\n",
    "\n",
    "np.linalg.det(A)           # Compute the determinant"
   ]
  },
  {
   "cell_type": "code",
   "execution_count": 40,
   "metadata": {
    "hide-output": false,
    "id": "LSxptAolzx5n"
   },
   "outputs": [
    {
     "data": {
      "text/plain": [
       "array([[-2. ,  1. ],\n",
       "       [ 1.5, -0.5]])"
      ]
     },
     "execution_count": 40,
     "metadata": {},
     "output_type": "execute_result"
    }
   ],
   "source": [
    "np.linalg.inv(A)           # Compute the inverse"
   ]
  },
  {
   "cell_type": "markdown",
   "metadata": {
    "id": "nwxaqwa6zx5n"
   },
   "source": [
    "\n",
    "<a id='index-12'></a>\n",
    "Wiele z tych funkcji jest również dostępnych w [SciPy] (http://www.scipy.org/), zbiorze modułów zbudowanych na bazie NumPy.\n",
    "\n"
   ]
  },
  {
   "cell_type": "code",
   "execution_count": null,
   "metadata": {},
   "outputs": [],
   "source": []
  },
  {
   "cell_type": "markdown",
   "metadata": {
    "id": "_bLFVJ4lzx5n"
   },
   "source": [
    "## Ćwiczenia\n",
    "\n",
    "\n",
    "\n",
    "<a id='np-ex1'></a>"
   ]
  },
  {
   "cell_type": "markdown",
   "metadata": {},
   "source": [
    "### Ćwiczenie 1\n",
    "\n",
    "a. Przekonwertuj tablicę 1D na 2D\n",
    "\n",
    "b. Utwórz następującą tablicę bez skomplikowanego kodowania. Używaj tylko funkcji numpy i poniższej tablicy wejściowej a.\n",
    "    wejście: `a = np.array([1,2,3])`\n",
    "    wyjście: `> array([1, 1, 1, 2, 2, 2, 3, 3, 3, 1, 2, 3, 1, 2, 3, 1, 2, 3])`\n",
    "\n",
    "c. wyświetl wspólne elementy dwóch tablic - korzystając tylko z funkcji numpy\n",
    "\n",
    "d. usuń z jednej tablicy elementy, które występują w drugiej\n",
    "\n",
    "e. zamień wiersze 1 i 2 w tablicy `arr = np.arange(9).reshape(3,3)`\n",
    "\n",
    "f. utwórz tablicę 2D zawierającą liczby typu float od 5 do 10\n",
    "\n",
    "g. Wyświetl tylko 3 miejsca po przecinku dla tablicy numpy\n",
    "\n",
    "h. Wstaw wartości np.nan w 20 losowych pozycjach w zestawie danych iris_2d\n",
    "    \n",
    "    `# Input\n",
    "     url = 'https://archive.ics.uci.edu/ml/machine-learning-databases/iris/iris.data'\n",
    "     iris_2d = np.genfromtxt(url, delimiter=',', dtype='object')`"
   ]
  },
  {
   "cell_type": "code",
   "execution_count": null,
   "metadata": {},
   "outputs": [],
   "source": [
    "# Ćwiczenie 1 - Jan Banot\n",
    "# a\n",
    "arr_1d = np.array([1, 2, 3, 4, 5])\n",
    "\n",
    "arr_2d_row = arr_1d.reshape(1, -1)\n",
    "arr_2d_col = arr_1d.reshape(-1, 1)\n",
    "\n",
    "# b\n",
    "a = np.array([1, 2, 3])\n",
    "\n",
    "repeated = np.repeat(a, 3)\n",
    "\n",
    "tiled = np.tile(a, 3)\n",
    "\n",
    "result = np.concatenate([repeated, tiled])\n",
    "print(result)\n",
    "\n",
    "# c\n",
    "a = np.array([1, 2, 3, 4])\n",
    "b = np.array([3, 4, 5, 6])\n",
    "\n",
    "common = np.intersect1d(a, b)\n",
    "print(common)\n",
    "\n",
    "# d\n",
    "a = np.array([1, 2, 3, 4, 5])\n",
    "b = np.array([3, 4, 5, 6])\n",
    "\n",
    "result = np.setdiff1d(a, b)\n",
    "print(result)\n",
    "\n",
    "# e\n",
    "arr = np.arange(9).reshape(3, 3)\n",
    "arr[[0, 1]] = arr[[1, 0]]\n",
    "print(arr)\n",
    "\n",
    "# f\n",
    "arr = np.linspace(5, 10, 12).reshape(3, 4)\n",
    "print(arr)\n",
    "\n",
    "# g\n",
    "np.set_printoptions(precision=3)\n",
    "arr = np.random.rand(3, 3) * 10\n",
    "print(arr)\n",
    "\n",
    "# h\n",
    "url = 'https://archive.ics.uci.edu/ml/machine-learning-databases/iris/iris.data'\n",
    "iris_2d = np.genfromtxt(url, delimiter=',', dtype='object')\n",
    "\n",
    "rows, cols = iris_2d.shape\n",
    "for _ in range(20):\n",
    "    i = np.random.randint(0, rows)\n",
    "    j = np.random.randint(0, cols - 1)\n",
    "    iris_2d[i, j] = np.nan\n",
    "\n",
    "print(iris_2d)"
   ]
  },
  {
   "cell_type": "markdown",
   "metadata": {
    "id": "9GGKhNkhzx5n"
   },
   "source": [
    "### Ćwiczenie 2\n",
    "\n",
    "Rozważmy wyrażenie wielomianowe\n",
    "\n",
    "\n",
    "<a id='equation-np-polynom'></a>\n",
    "$$\n",
    "p(x) = a_0 + a_1 x + a_2 x^2 + \\cdots a_N x^N = \\sum_{n=0}^N a_n x^n \\tag{1}\n",
    "$$\n",
    "\n",
    "Napisz funkcję wykorzystującą NumPy i tablice do obliczenia podanego wyrażenia\n",
    "\n",
    "- Podpowiedź: Użyj `np.cumprod()`  \n",
    "\n",
    "\n",
    "\n",
    "<a id='np-ex2'></a>"
   ]
  },
  {
   "cell_type": "code",
   "execution_count": null,
   "metadata": {},
   "outputs": [
    {
     "name": "stdout",
     "output_type": "stream",
     "text": [
      "17\n"
     ]
    }
   ],
   "source": [
    "# Ćwiczenie 2 - Jan Banot\n",
    "\n",
    "def evaluate_polynomial(coefficients, x):\n",
    "    \"\"\"\n",
    "    Evaluates the polynomial p(x) = a[0] + a[1]*x + a[2]*x^2 + ... + a[n]*x^n\n",
    "    using np.cumprod()\n",
    "\n",
    "    Parameters:\n",
    "    coefficients : array_like\n",
    "        Array of coefficients [a0, a1, ..., aN]\n",
    "    x : float\n",
    "        The point at which to evaluate the polynomial\n",
    "\n",
    "    Returns:\n",
    "    float: The value of the polynomial at x\n",
    "    \"\"\"\n",
    "    coefficients = np.array(coefficients)\n",
    "    # Create an array of x powers: [1, x, x^2, ..., x^N]\n",
    "    powers_of_x = np.concatenate(([1], np.cumprod(np.full(len(coefficients) - 1, x))))\n",
    "    return np.sum(coefficients * powers_of_x)\n",
    "\n",
    "coefficients = [1, 2, 3]  # p(x) = 1 + 2x + 3x^2\n",
    "x = 2\n",
    "print(evaluate_polynomial(coefficients, x))"
   ]
  },
  {
   "cell_type": "markdown",
   "metadata": {
    "id": "QMpuQbnMzx5r"
   },
   "source": [
    "### Ćwiczenie 3\n",
    "\n",
    "Niech `q` będzie tablicą NumPy o długości `n` z `q.sum() == 1`.\n",
    "\n",
    "Załóżmy, że q reprezentuje [funkcję masy prawdopodobieństwa.](https://pl.wikipedia.org/wiki/Funkcja_masy_prawdopodobieństwa).\n",
    "\n",
    "Chcemy wygenerować dyskretną zmienną losową $ x $\n",
    "   tak, że $ \\mathbb P\\{x = i\\} = q_i $.\n",
    "\n",
    "Innymi słowy, `x` przyjmuje wartości z zakresu `range(len(q))` i `x = i` z prawdopodobieństwem `q[i]`.\n",
    "\n",
    "Algorytm standardowy (transformacja odwrotna) jest następujący:\n",
    "\n",
    "- Divide the unit interval $ [0, 1] $ into $ n $ subintervals $ I_0, I_1, \\ldots, I_{n-1} $ such that the length of $ I_i $ is $ q_i $.  \n",
    "- Draw a uniform random variable $ U $ on $ [0, 1] $ and return the $ i $ such that $ U \\in I_i $.  \n",
    "\n",
    "\n",
    "Prawdopodobieństwo wylosowania $ i $  to długość  $ I_i $, co jest równe $ q_i $.\n",
    "\n",
    "Algorytm możemy zaimplementować w następujący sposób:"
   ]
  },
  {
   "cell_type": "code",
   "execution_count": null,
   "metadata": {
    "hide-output": false,
    "id": "l27-GQXbzx5r"
   },
   "outputs": [],
   "source": [
    "from random import uniform\n",
    "\n",
    "def sample(q):\n",
    "    a = 0.0\n",
    "    U = uniform(0, 1)\n",
    "    for i in range(len(q)):\n",
    "        if a < U <= a + q[i]:\n",
    "            return i\n",
    "        a = a + q[i]"
   ]
  },
  {
   "cell_type": "markdown",
   "metadata": {
    "id": "UGC5tyjfzx5r"
   },
   "source": [
    "Jeśli nie widzisz, jak to działa, spróbuj przemyśleć przebieg działania na prostym przykładzie, na przykład `q = [0.25, 0.75]`. Pomocny jest rysunek na papierze.\n",
    "\n",
    "Twoje zadanie polega na przyspieszeniu tego za pomocą NumPy, unikając jawnych pętli\n",
    "\n",
    "- Podpowiedź: Skorzystaj z `np.searchsorted` i `np.cumsum`  \n",
    "\n",
    "\n",
    "If you can, zaimplementuj tę funkcjonalność jako klasę o nazwie `DiscreteRV`,gdzie\n",
    "\n",
    "- danymi dla instancji klasy jest wektor prawdopodobieństw `q`  \n",
    "- klasa posiada metodę `draw()`, która zwraca jeden losowanie zgodnie z algorytmem opisanym powyżej\n",
    "\n",
    "\n",
    "Jeśli jesteś w stanie, napisz metodę tak, aby `draw(k)` zwracało `k` losowań z  `q`.\n",
    "\n",
    "\n",
    "<a id='np-ex3'></a>"
   ]
  },
  {
   "cell_type": "code",
   "execution_count": null,
   "metadata": {},
   "outputs": [
    {
     "name": "stdout",
     "output_type": "stream",
     "text": [
      "0\n",
      "[1 1 1 1 1 1 0 1 0 0]\n"
     ]
    }
   ],
   "source": [
    "# Ćwiczenie 3 - Jan Banot\n",
    "class DiscreteRV:\n",
    "    def __init__(self, q):\n",
    "        self.q = np.array(q, dtype=float)\n",
    "        self.q = self.q / self.q.sum()\n",
    "        self.cdf = np.cumsum(self.q)\n",
    "\n",
    "    def draw(self, k=1):\n",
    "        U = np.random.uniform(0, 1, size=k)\n",
    "        samples = np.searchsorted(self.cdf, U)\n",
    "        if k == 1:\n",
    "            return samples[0]\n",
    "        return samples\n",
    "\n",
    "rv = DiscreteRV([0.25, 0.75])\n",
    "print(rv.draw())\n",
    "print(rv.draw(10))"
   ]
  }
 ],
 "metadata": {
  "colab": {
   "provenance": []
  },
  "date": 1584334748.2838585,
  "filename": "numpy.rst",
  "kernelspec": {
   "display_name": "msc-cs-code (3.13.3)",
   "language": "python",
   "name": "python3"
  },
  "language_info": {
   "codemirror_mode": {
    "name": "ipython",
    "version": 3
   },
   "file_extension": ".py",
   "mimetype": "text/x-python",
   "name": "python",
   "nbconvert_exporter": "python",
   "pygments_lexer": "ipython3",
   "version": "3.13.3"
  },
  "title": "NumPy"
 },
 "nbformat": 4,
 "nbformat_minor": 1
}
